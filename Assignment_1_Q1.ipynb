{
  "cells": [
    {
      "cell_type": "markdown",
      "id": "f7d33a25",
      "metadata": {
        "id": "f7d33a25"
      },
      "source": [
        "# Data Preprocessing"
      ]
    },
    {
      "cell_type": "code",
      "execution_count": null,
      "id": "a7a1dcf5",
      "metadata": {
        "id": "a7a1dcf5",
        "outputId": "ded2ba15-063c-44b5-ee39-f3201440310a"
      },
      "outputs": [
        {
          "name": "stdout",
          "output_type": "stream",
          "text": [
            "C:\\Users\\Rohit Kesarwani\\python_files\\IR_Assignment_1\\Dataset\n",
            "['cranfield0001', 'cranfield0002', 'cranfield0003', 'cranfield0004', 'cranfield0005', 'cranfield0006', 'cranfield0007', 'cranfield0008', 'cranfield0009', 'cranfield0010', 'cranfield0011', 'cranfield0012', 'cranfield0013', 'cranfield0014', 'cranfield0015', 'cranfield0016', 'cranfield0017', 'cranfield0018', 'cranfield0019', 'cranfield0020', 'cranfield0021', 'cranfield0022', 'cranfield0023', 'cranfield0024', 'cranfield0025', 'cranfield0026', 'cranfield0027', 'cranfield0028', 'cranfield0029', 'cranfield0030', 'cranfield0031', 'cranfield0032', 'cranfield0033', 'cranfield0034', 'cranfield0035', 'cranfield0036', 'cranfield0037', 'cranfield0038', 'cranfield0039', 'cranfield0040', 'cranfield0041', 'cranfield0042', 'cranfield0043', 'cranfield0044', 'cranfield0045', 'cranfield0046', 'cranfield0047', 'cranfield0048', 'cranfield0049', 'cranfield0050', 'cranfield0051', 'cranfield0052', 'cranfield0053', 'cranfield0054', 'cranfield0055', 'cranfield0056', 'cranfield0057', 'cranfield0058', 'cranfield0059', 'cranfield0060', 'cranfield0061', 'cranfield0062', 'cranfield0063', 'cranfield0064', 'cranfield0065', 'cranfield0066', 'cranfield0067', 'cranfield0068', 'cranfield0069', 'cranfield0070', 'cranfield0071', 'cranfield0072', 'cranfield0073', 'cranfield0074', 'cranfield0075', 'cranfield0076', 'cranfield0077', 'cranfield0078', 'cranfield0079', 'cranfield0080', 'cranfield0081', 'cranfield0082', 'cranfield0083', 'cranfield0084', 'cranfield0085', 'cranfield0086', 'cranfield0087', 'cranfield0088', 'cranfield0089', 'cranfield0090', 'cranfield0091', 'cranfield0092', 'cranfield0093', 'cranfield0094', 'cranfield0095', 'cranfield0096', 'cranfield0097', 'cranfield0098', 'cranfield0099', 'cranfield0100', 'cranfield0101', 'cranfield0102', 'cranfield0103', 'cranfield0104', 'cranfield0105', 'cranfield0106', 'cranfield0107', 'cranfield0108', 'cranfield0109', 'cranfield0110', 'cranfield0111', 'cranfield0112', 'cranfield0113', 'cranfield0114', 'cranfield0115', 'cranfield0116', 'cranfield0117', 'cranfield0118', 'cranfield0119', 'cranfield0120', 'cranfield0121', 'cranfield0122', 'cranfield0123', 'cranfield0124', 'cranfield0125', 'cranfield0126', 'cranfield0127', 'cranfield0128', 'cranfield0129', 'cranfield0130', 'cranfield0131', 'cranfield0132', 'cranfield0133', 'cranfield0134', 'cranfield0135', 'cranfield0136', 'cranfield0137', 'cranfield0138', 'cranfield0139', 'cranfield0140', 'cranfield0141', 'cranfield0142', 'cranfield0143', 'cranfield0144', 'cranfield0145', 'cranfield0146', 'cranfield0147', 'cranfield0148', 'cranfield0149', 'cranfield0150', 'cranfield0151', 'cranfield0152', 'cranfield0153', 'cranfield0154', 'cranfield0155', 'cranfield0156', 'cranfield0157', 'cranfield0158', 'cranfield0159', 'cranfield0160', 'cranfield0161', 'cranfield0162', 'cranfield0163', 'cranfield0164', 'cranfield0165', 'cranfield0166', 'cranfield0167', 'cranfield0168', 'cranfield0169', 'cranfield0170', 'cranfield0171', 'cranfield0172', 'cranfield0173', 'cranfield0174', 'cranfield0175', 'cranfield0176', 'cranfield0177', 'cranfield0178', 'cranfield0179', 'cranfield0180', 'cranfield0181', 'cranfield0182', 'cranfield0183', 'cranfield0184', 'cranfield0185', 'cranfield0186', 'cranfield0187', 'cranfield0188', 'cranfield0189', 'cranfield0190', 'cranfield0191', 'cranfield0192', 'cranfield0193', 'cranfield0194', 'cranfield0195', 'cranfield0196', 'cranfield0197', 'cranfield0198', 'cranfield0199', 'cranfield0200', 'cranfield0201', 'cranfield0202', 'cranfield0203', 'cranfield0204', 'cranfield0205', 'cranfield0206', 'cranfield0207', 'cranfield0208', 'cranfield0209', 'cranfield0210', 'cranfield0211', 'cranfield0212', 'cranfield0213', 'cranfield0214', 'cranfield0215', 'cranfield0216', 'cranfield0217', 'cranfield0218', 'cranfield0219', 'cranfield0220', 'cranfield0221', 'cranfield0222', 'cranfield0223', 'cranfield0224', 'cranfield0225', 'cranfield0226', 'cranfield0227', 'cranfield0228', 'cranfield0229', 'cranfield0230', 'cranfield0231', 'cranfield0232', 'cranfield0233', 'cranfield0234', 'cranfield0235', 'cranfield0236', 'cranfield0237', 'cranfield0238', 'cranfield0239', 'cranfield0240', 'cranfield0241', 'cranfield0242', 'cranfield0243', 'cranfield0244', 'cranfield0245', 'cranfield0246', 'cranfield0247', 'cranfield0248', 'cranfield0249', 'cranfield0250', 'cranfield0251', 'cranfield0252', 'cranfield0253', 'cranfield0254', 'cranfield0255', 'cranfield0256', 'cranfield0257', 'cranfield0258', 'cranfield0259', 'cranfield0260', 'cranfield0261', 'cranfield0262', 'cranfield0263', 'cranfield0264', 'cranfield0265', 'cranfield0266', 'cranfield0267', 'cranfield0268', 'cranfield0269', 'cranfield0270', 'cranfield0271', 'cranfield0272', 'cranfield0273', 'cranfield0274', 'cranfield0275', 'cranfield0276', 'cranfield0277', 'cranfield0278', 'cranfield0279', 'cranfield0280', 'cranfield0281', 'cranfield0282', 'cranfield0283', 'cranfield0284', 'cranfield0285', 'cranfield0286', 'cranfield0287', 'cranfield0288', 'cranfield0289', 'cranfield0290', 'cranfield0291', 'cranfield0292', 'cranfield0293', 'cranfield0294', 'cranfield0295', 'cranfield0296', 'cranfield0297', 'cranfield0298', 'cranfield0299', 'cranfield0300', 'cranfield0301', 'cranfield0302', 'cranfield0303', 'cranfield0304', 'cranfield0305', 'cranfield0306', 'cranfield0307', 'cranfield0308', 'cranfield0309', 'cranfield0310', 'cranfield0311', 'cranfield0312', 'cranfield0313', 'cranfield0314', 'cranfield0315', 'cranfield0316', 'cranfield0317', 'cranfield0318', 'cranfield0319', 'cranfield0320', 'cranfield0321', 'cranfield0322', 'cranfield0323', 'cranfield0324', 'cranfield0325', 'cranfield0326', 'cranfield0327', 'cranfield0328', 'cranfield0329', 'cranfield0330', 'cranfield0331', 'cranfield0332', 'cranfield0333', 'cranfield0334', 'cranfield0335', 'cranfield0336', 'cranfield0337', 'cranfield0338', 'cranfield0339', 'cranfield0340', 'cranfield0341', 'cranfield0342', 'cranfield0343', 'cranfield0344', 'cranfield0345', 'cranfield0346', 'cranfield0347', 'cranfield0348', 'cranfield0349', 'cranfield0350', 'cranfield0351', 'cranfield0352', 'cranfield0353', 'cranfield0354', 'cranfield0355', 'cranfield0356', 'cranfield0357', 'cranfield0358', 'cranfield0359', 'cranfield0360', 'cranfield0361', 'cranfield0362', 'cranfield0363', 'cranfield0364', 'cranfield0365', 'cranfield0366', 'cranfield0367', 'cranfield0368', 'cranfield0369', 'cranfield0370', 'cranfield0371', 'cranfield0372', 'cranfield0373', 'cranfield0374', 'cranfield0375', 'cranfield0376', 'cranfield0377', 'cranfield0378', 'cranfield0379', 'cranfield0380', 'cranfield0381', 'cranfield0382', 'cranfield0383', 'cranfield0384', 'cranfield0385', 'cranfield0386', 'cranfield0387', 'cranfield0388', 'cranfield0389', 'cranfield0390', 'cranfield0391', 'cranfield0392', 'cranfield0393', 'cranfield0394', 'cranfield0395', 'cranfield0396', 'cranfield0397', 'cranfield0398', 'cranfield0399', 'cranfield0400', 'cranfield0401', 'cranfield0402', 'cranfield0403', 'cranfield0404', 'cranfield0405', 'cranfield0406', 'cranfield0407', 'cranfield0408', 'cranfield0409', 'cranfield0410', 'cranfield0411', 'cranfield0412', 'cranfield0413', 'cranfield0414', 'cranfield0415', 'cranfield0416', 'cranfield0417', 'cranfield0418', 'cranfield0419', 'cranfield0420', 'cranfield0421', 'cranfield0422', 'cranfield0423', 'cranfield0424', 'cranfield0425', 'cranfield0426', 'cranfield0427', 'cranfield0428', 'cranfield0429', 'cranfield0430', 'cranfield0431', 'cranfield0432', 'cranfield0433', 'cranfield0434', 'cranfield0435', 'cranfield0436', 'cranfield0437', 'cranfield0438', 'cranfield0439', 'cranfield0440', 'cranfield0441', 'cranfield0442', 'cranfield0443', 'cranfield0444', 'cranfield0445', 'cranfield0446', 'cranfield0447', 'cranfield0448', 'cranfield0449', 'cranfield0450', 'cranfield0451', 'cranfield0452', 'cranfield0453', 'cranfield0454', 'cranfield0455', 'cranfield0456', 'cranfield0457', 'cranfield0458', 'cranfield0459', 'cranfield0460', 'cranfield0461', 'cranfield0462', 'cranfield0463', 'cranfield0464', 'cranfield0465', 'cranfield0466', 'cranfield0467', 'cranfield0468', 'cranfield0469', 'cranfield0470', 'cranfield0471', 'cranfield0472', 'cranfield0473', 'cranfield0474', 'cranfield0475', 'cranfield0476', 'cranfield0477', 'cranfield0478', 'cranfield0479', 'cranfield0480', 'cranfield0481', 'cranfield0482', 'cranfield0483', 'cranfield0484', 'cranfield0485', 'cranfield0486', 'cranfield0487', 'cranfield0488', 'cranfield0489', 'cranfield0490', 'cranfield0491', 'cranfield0492', 'cranfield0493', 'cranfield0494', 'cranfield0495', 'cranfield0496', 'cranfield0497', 'cranfield0498', 'cranfield0499', 'cranfield0500', 'cranfield0501', 'cranfield0502', 'cranfield0503', 'cranfield0504', 'cranfield0505', 'cranfield0506', 'cranfield0507', 'cranfield0508', 'cranfield0509', 'cranfield0510', 'cranfield0511', 'cranfield0512', 'cranfield0513', 'cranfield0514', 'cranfield0515', 'cranfield0516', 'cranfield0517', 'cranfield0518', 'cranfield0519', 'cranfield0520', 'cranfield0521', 'cranfield0522', 'cranfield0523', 'cranfield0524', 'cranfield0525', 'cranfield0526', 'cranfield0527', 'cranfield0528', 'cranfield0529', 'cranfield0530', 'cranfield0531', 'cranfield0532', 'cranfield0533', 'cranfield0534', 'cranfield0535', 'cranfield0536', 'cranfield0537', 'cranfield0538', 'cranfield0539', 'cranfield0540', 'cranfield0541', 'cranfield0542', 'cranfield0543', 'cranfield0544', 'cranfield0545', 'cranfield0546', 'cranfield0547', 'cranfield0548', 'cranfield0549', 'cranfield0550', 'cranfield0551', 'cranfield0552', 'cranfield0553', 'cranfield0554', 'cranfield0555', 'cranfield0556', 'cranfield0557', 'cranfield0558', 'cranfield0559', 'cranfield0560', 'cranfield0561', 'cranfield0562', 'cranfield0563', 'cranfield0564', 'cranfield0565', 'cranfield0566', 'cranfield0567', 'cranfield0568', 'cranfield0569', 'cranfield0570', 'cranfield0571', 'cranfield0572', 'cranfield0573', 'cranfield0574', 'cranfield0575', 'cranfield0576', 'cranfield0577', 'cranfield0578', 'cranfield0579', 'cranfield0580', 'cranfield0581', 'cranfield0582', 'cranfield0583', 'cranfield0584', 'cranfield0585', 'cranfield0586', 'cranfield0587', 'cranfield0588', 'cranfield0589', 'cranfield0590', 'cranfield0591', 'cranfield0592', 'cranfield0593', 'cranfield0594', 'cranfield0595', 'cranfield0596', 'cranfield0597', 'cranfield0598', 'cranfield0599', 'cranfield0600', 'cranfield0601', 'cranfield0602', 'cranfield0603', 'cranfield0604', 'cranfield0605', 'cranfield0606', 'cranfield0607', 'cranfield0608', 'cranfield0609', 'cranfield0610', 'cranfield0611', 'cranfield0612', 'cranfield0613', 'cranfield0614', 'cranfield0615', 'cranfield0616', 'cranfield0617', 'cranfield0618', 'cranfield0619', 'cranfield0620', 'cranfield0621', 'cranfield0622', 'cranfield0623', 'cranfield0624', 'cranfield0625', 'cranfield0626', 'cranfield0627', 'cranfield0628', 'cranfield0629', 'cranfield0630', 'cranfield0631', 'cranfield0632', 'cranfield0633', 'cranfield0634', 'cranfield0635', 'cranfield0636', 'cranfield0637', 'cranfield0638', 'cranfield0639', 'cranfield0640', 'cranfield0641', 'cranfield0642', 'cranfield0643', 'cranfield0644', 'cranfield0645', 'cranfield0646', 'cranfield0647', 'cranfield0648', 'cranfield0649', 'cranfield0650', 'cranfield0651', 'cranfield0652', 'cranfield0653', 'cranfield0654', 'cranfield0655', 'cranfield0656', 'cranfield0657', 'cranfield0658', 'cranfield0659', 'cranfield0660', 'cranfield0661', 'cranfield0662', 'cranfield0663', 'cranfield0664', 'cranfield0665', 'cranfield0666', 'cranfield0667', 'cranfield0668', 'cranfield0669', 'cranfield0670', 'cranfield0671', 'cranfield0672', 'cranfield0673', 'cranfield0674', 'cranfield0675', 'cranfield0676', 'cranfield0677', 'cranfield0678', 'cranfield0679', 'cranfield0680', 'cranfield0681', 'cranfield0682', 'cranfield0683', 'cranfield0684', 'cranfield0685', 'cranfield0686', 'cranfield0687', 'cranfield0688', 'cranfield0689', 'cranfield0690', 'cranfield0691', 'cranfield0692', 'cranfield0693', 'cranfield0694', 'cranfield0695', 'cranfield0696', 'cranfield0697', 'cranfield0698', 'cranfield0699', 'cranfield0700', 'cranfield0701', 'cranfield0702', 'cranfield0703', 'cranfield0704', 'cranfield0705', 'cranfield0706', 'cranfield0707', 'cranfield0708', 'cranfield0709', 'cranfield0710', 'cranfield0711', 'cranfield0712', 'cranfield0713', 'cranfield0714', 'cranfield0715', 'cranfield0716', 'cranfield0717', 'cranfield0718', 'cranfield0719', 'cranfield0720', 'cranfield0721', 'cranfield0722', 'cranfield0723', 'cranfield0724', 'cranfield0725', 'cranfield0726', 'cranfield0727', 'cranfield0728', 'cranfield0729', 'cranfield0730', 'cranfield0731', 'cranfield0732', 'cranfield0733', 'cranfield0734', 'cranfield0735', 'cranfield0736', 'cranfield0737', 'cranfield0738', 'cranfield0739', 'cranfield0740', 'cranfield0741', 'cranfield0742', 'cranfield0743', 'cranfield0744', 'cranfield0745', 'cranfield0746', 'cranfield0747', 'cranfield0748', 'cranfield0749', 'cranfield0750', 'cranfield0751', 'cranfield0752', 'cranfield0753', 'cranfield0754', 'cranfield0755', 'cranfield0756', 'cranfield0757', 'cranfield0758', 'cranfield0759', 'cranfield0760', 'cranfield0761', 'cranfield0762', 'cranfield0763', 'cranfield0764', 'cranfield0765', 'cranfield0766', 'cranfield0767', 'cranfield0768', 'cranfield0769', 'cranfield0770', 'cranfield0771', 'cranfield0772', 'cranfield0773', 'cranfield0774', 'cranfield0775', 'cranfield0776', 'cranfield0777', 'cranfield0778', 'cranfield0779', 'cranfield0780', 'cranfield0781', 'cranfield0782', 'cranfield0783', 'cranfield0784', 'cranfield0785', 'cranfield0786', 'cranfield0787', 'cranfield0788', 'cranfield0789', 'cranfield0790', 'cranfield0791', 'cranfield0792', 'cranfield0793', 'cranfield0794', 'cranfield0795', 'cranfield0796', 'cranfield0797', 'cranfield0798', 'cranfield0799', 'cranfield0800', 'cranfield0801', 'cranfield0802', 'cranfield0803', 'cranfield0804', 'cranfield0805', 'cranfield0806', 'cranfield0807', 'cranfield0808', 'cranfield0809', 'cranfield0810', 'cranfield0811', 'cranfield0812', 'cranfield0813', 'cranfield0814', 'cranfield0815', 'cranfield0816', 'cranfield0817', 'cranfield0818', 'cranfield0819', 'cranfield0820', 'cranfield0821', 'cranfield0822', 'cranfield0823', 'cranfield0824', 'cranfield0825', 'cranfield0826', 'cranfield0827', 'cranfield0828', 'cranfield0829', 'cranfield0830', 'cranfield0831', 'cranfield0832', 'cranfield0833', 'cranfield0834', 'cranfield0835', 'cranfield0836', 'cranfield0837', 'cranfield0838', 'cranfield0839', 'cranfield0840', 'cranfield0841', 'cranfield0842', 'cranfield0843', 'cranfield0844', 'cranfield0845', 'cranfield0846', 'cranfield0847', 'cranfield0848', 'cranfield0849', 'cranfield0850', 'cranfield0851', 'cranfield0852', 'cranfield0853', 'cranfield0854', 'cranfield0855', 'cranfield0856', 'cranfield0857', 'cranfield0858', 'cranfield0859', 'cranfield0860', 'cranfield0861', 'cranfield0862', 'cranfield0863', 'cranfield0864', 'cranfield0865', 'cranfield0866', 'cranfield0867', 'cranfield0868', 'cranfield0869', 'cranfield0870', 'cranfield0871', 'cranfield0872', 'cranfield0873', 'cranfield0874', 'cranfield0875', 'cranfield0876', 'cranfield0877', 'cranfield0878', 'cranfield0879', 'cranfield0880', 'cranfield0881', 'cranfield0882', 'cranfield0883', 'cranfield0884', 'cranfield0885', 'cranfield0886', 'cranfield0887', 'cranfield0888', 'cranfield0889', 'cranfield0890', 'cranfield0891', 'cranfield0892', 'cranfield0893', 'cranfield0894', 'cranfield0895', 'cranfield0896', 'cranfield0897', 'cranfield0898', 'cranfield0899', 'cranfield0900', 'cranfield0901', 'cranfield0902', 'cranfield0903', 'cranfield0904', 'cranfield0905', 'cranfield0906', 'cranfield0907', 'cranfield0908', 'cranfield0909', 'cranfield0910', 'cranfield0911', 'cranfield0912', 'cranfield0913', 'cranfield0914', 'cranfield0915', 'cranfield0916', 'cranfield0917', 'cranfield0918', 'cranfield0919', 'cranfield0920', 'cranfield0921', 'cranfield0922', 'cranfield0923', 'cranfield0924', 'cranfield0925', 'cranfield0926', 'cranfield0927', 'cranfield0928', 'cranfield0929', 'cranfield0930', 'cranfield0931', 'cranfield0932', 'cranfield0933', 'cranfield0934', 'cranfield0935', 'cranfield0936', 'cranfield0937', 'cranfield0938', 'cranfield0939', 'cranfield0940', 'cranfield0941', 'cranfield0942', 'cranfield0943', 'cranfield0944', 'cranfield0945', 'cranfield0946', 'cranfield0947', 'cranfield0948', 'cranfield0949', 'cranfield0950', 'cranfield0951', 'cranfield0952', 'cranfield0953', 'cranfield0954', 'cranfield0955', 'cranfield0956', 'cranfield0957', 'cranfield0958', 'cranfield0959', 'cranfield0960', 'cranfield0961', 'cranfield0962', 'cranfield0963', 'cranfield0964', 'cranfield0965', 'cranfield0966', 'cranfield0967', 'cranfield0968', 'cranfield0969', 'cranfield0970', 'cranfield0971', 'cranfield0972', 'cranfield0973', 'cranfield0974', 'cranfield0975', 'cranfield0976', 'cranfield0977', 'cranfield0978', 'cranfield0979', 'cranfield0980', 'cranfield0981', 'cranfield0982', 'cranfield0983', 'cranfield0984', 'cranfield0985', 'cranfield0986', 'cranfield0987', 'cranfield0988', 'cranfield0989', 'cranfield0990', 'cranfield0991', 'cranfield0992', 'cranfield0993', 'cranfield0994', 'cranfield0995', 'cranfield0996', 'cranfield0997', 'cranfield0998', 'cranfield0999', 'cranfield1000', 'cranfield1001', 'cranfield1002', 'cranfield1003', 'cranfield1004', 'cranfield1005', 'cranfield1006', 'cranfield1007', 'cranfield1008', 'cranfield1009', 'cranfield1010', 'cranfield1011', 'cranfield1012', 'cranfield1013', 'cranfield1014', 'cranfield1015', 'cranfield1016', 'cranfield1017', 'cranfield1018', 'cranfield1019', 'cranfield1020', 'cranfield1021', 'cranfield1022', 'cranfield1023', 'cranfield1024', 'cranfield1025', 'cranfield1026', 'cranfield1027', 'cranfield1028', 'cranfield1029', 'cranfield1030', 'cranfield1031', 'cranfield1032', 'cranfield1033', 'cranfield1034', 'cranfield1035', 'cranfield1036', 'cranfield1037', 'cranfield1038', 'cranfield1039', 'cranfield1040', 'cranfield1041', 'cranfield1042', 'cranfield1043', 'cranfield1044', 'cranfield1045', 'cranfield1046', 'cranfield1047', 'cranfield1048', 'cranfield1049', 'cranfield1050', 'cranfield1051', 'cranfield1052', 'cranfield1053', 'cranfield1054', 'cranfield1055', 'cranfield1056', 'cranfield1057', 'cranfield1058', 'cranfield1059', 'cranfield1060', 'cranfield1061', 'cranfield1062', 'cranfield1063', 'cranfield1064', 'cranfield1065', 'cranfield1066', 'cranfield1067', 'cranfield1068', 'cranfield1069', 'cranfield1070', 'cranfield1071', 'cranfield1072', 'cranfield1073', 'cranfield1074', 'cranfield1075', 'cranfield1076', 'cranfield1077', 'cranfield1078', 'cranfield1079', 'cranfield1080', 'cranfield1081', 'cranfield1082', 'cranfield1083', 'cranfield1084', 'cranfield1085', 'cranfield1086', 'cranfield1087', 'cranfield1088', 'cranfield1089', 'cranfield1090', 'cranfield1091', 'cranfield1092', 'cranfield1093', 'cranfield1094', 'cranfield1095', 'cranfield1096', 'cranfield1097', 'cranfield1098', 'cranfield1099', 'cranfield1100', 'cranfield1101', 'cranfield1102', 'cranfield1103', 'cranfield1104', 'cranfield1105', 'cranfield1106', 'cranfield1107', 'cranfield1108', 'cranfield1109', 'cranfield1110', 'cranfield1111', 'cranfield1112', 'cranfield1113', 'cranfield1114', 'cranfield1115', 'cranfield1116', 'cranfield1117', 'cranfield1118', 'cranfield1119', 'cranfield1120', 'cranfield1121', 'cranfield1122', 'cranfield1123', 'cranfield1124', 'cranfield1125', 'cranfield1126', 'cranfield1127', 'cranfield1128', 'cranfield1129', 'cranfield1130', 'cranfield1131', 'cranfield1132', 'cranfield1133', 'cranfield1134', 'cranfield1135', 'cranfield1136', 'cranfield1137', 'cranfield1138', 'cranfield1139', 'cranfield1140', 'cranfield1141', 'cranfield1142', 'cranfield1143', 'cranfield1144', 'cranfield1145', 'cranfield1146', 'cranfield1147', 'cranfield1148', 'cranfield1149', 'cranfield1150', 'cranfield1151', 'cranfield1152', 'cranfield1153', 'cranfield1154', 'cranfield1155', 'cranfield1156', 'cranfield1157', 'cranfield1158', 'cranfield1159', 'cranfield1160', 'cranfield1161', 'cranfield1162', 'cranfield1163', 'cranfield1164', 'cranfield1165', 'cranfield1166', 'cranfield1167', 'cranfield1168', 'cranfield1169', 'cranfield1170', 'cranfield1171', 'cranfield1172', 'cranfield1173', 'cranfield1174', 'cranfield1175', 'cranfield1176', 'cranfield1177', 'cranfield1178', 'cranfield1179', 'cranfield1180', 'cranfield1181', 'cranfield1182', 'cranfield1183', 'cranfield1184', 'cranfield1185', 'cranfield1186', 'cranfield1187', 'cranfield1188', 'cranfield1189', 'cranfield1190', 'cranfield1191', 'cranfield1192', 'cranfield1193', 'cranfield1194', 'cranfield1195', 'cranfield1196', 'cranfield1197', 'cranfield1198', 'cranfield1199', 'cranfield1200', 'cranfield1201', 'cranfield1202', 'cranfield1203', 'cranfield1204', 'cranfield1205', 'cranfield1206', 'cranfield1207', 'cranfield1208', 'cranfield1209', 'cranfield1210', 'cranfield1211', 'cranfield1212', 'cranfield1213', 'cranfield1214', 'cranfield1215', 'cranfield1216', 'cranfield1217', 'cranfield1218', 'cranfield1219', 'cranfield1220', 'cranfield1221', 'cranfield1222', 'cranfield1223', 'cranfield1224', 'cranfield1225', 'cranfield1226', 'cranfield1227', 'cranfield1228', 'cranfield1229', 'cranfield1230', 'cranfield1231', 'cranfield1232', 'cranfield1233', 'cranfield1234', 'cranfield1235', 'cranfield1236', 'cranfield1237', 'cranfield1238', 'cranfield1239', 'cranfield1240', 'cranfield1241', 'cranfield1242', 'cranfield1243', 'cranfield1244', 'cranfield1245', 'cranfield1246', 'cranfield1247', 'cranfield1248', 'cranfield1249', 'cranfield1250', 'cranfield1251', 'cranfield1252', 'cranfield1253', 'cranfield1254', 'cranfield1255', 'cranfield1256', 'cranfield1257', 'cranfield1258', 'cranfield1259', 'cranfield1260', 'cranfield1261', 'cranfield1262', 'cranfield1263', 'cranfield1264', 'cranfield1265', 'cranfield1266', 'cranfield1267', 'cranfield1268', 'cranfield1269', 'cranfield1270', 'cranfield1271', 'cranfield1272', 'cranfield1273', 'cranfield1274', 'cranfield1275', 'cranfield1276', 'cranfield1277', 'cranfield1278', 'cranfield1279', 'cranfield1280', 'cranfield1281', 'cranfield1282', 'cranfield1283', 'cranfield1284', 'cranfield1285', 'cranfield1286', 'cranfield1287', 'cranfield1288', 'cranfield1289', 'cranfield1290', 'cranfield1291', 'cranfield1292', 'cranfield1293', 'cranfield1294', 'cranfield1295', 'cranfield1296', 'cranfield1297', 'cranfield1298', 'cranfield1299', 'cranfield1300', 'cranfield1301', 'cranfield1302', 'cranfield1303', 'cranfield1304', 'cranfield1305', 'cranfield1306', 'cranfield1307', 'cranfield1308', 'cranfield1309', 'cranfield1310', 'cranfield1311', 'cranfield1312', 'cranfield1313', 'cranfield1314', 'cranfield1315', 'cranfield1316', 'cranfield1317', 'cranfield1318', 'cranfield1319', 'cranfield1320', 'cranfield1321', 'cranfield1322', 'cranfield1323', 'cranfield1324', 'cranfield1325', 'cranfield1326', 'cranfield1327', 'cranfield1328', 'cranfield1329', 'cranfield1330', 'cranfield1331', 'cranfield1332', 'cranfield1333', 'cranfield1334', 'cranfield1335', 'cranfield1336', 'cranfield1337', 'cranfield1338', 'cranfield1339', 'cranfield1340', 'cranfield1341', 'cranfield1342', 'cranfield1343', 'cranfield1344', 'cranfield1345', 'cranfield1346', 'cranfield1347', 'cranfield1348', 'cranfield1349', 'cranfield1350', 'cranfield1351', 'cranfield1352', 'cranfield1353', 'cranfield1354', 'cranfield1355', 'cranfield1356', 'cranfield1357', 'cranfield1358', 'cranfield1359', 'cranfield1360', 'cranfield1361', 'cranfield1362', 'cranfield1363', 'cranfield1364', 'cranfield1365', 'cranfield1366', 'cranfield1367', 'cranfield1368', 'cranfield1369', 'cranfield1370', 'cranfield1371', 'cranfield1372', 'cranfield1373', 'cranfield1374', 'cranfield1375', 'cranfield1376', 'cranfield1377', 'cranfield1378', 'cranfield1379', 'cranfield1380', 'cranfield1381', 'cranfield1382', 'cranfield1383', 'cranfield1384', 'cranfield1385', 'cranfield1386', 'cranfield1387', 'cranfield1388', 'cranfield1389', 'cranfield1390', 'cranfield1391', 'cranfield1392', 'cranfield1393', 'cranfield1394', 'cranfield1395', 'cranfield1396', 'cranfield1397', 'cranfield1398', 'cranfield1399', 'cranfield1400']\n"
          ]
        }
      ],
      "source": [
        "# os is used for importing dataset folders from directory.\n",
        "import os\n",
        "\n",
        "# current directory\n",
        "curr_dir = os.getcwd()\n",
        "\n",
        "# dataset path\n",
        "path = curr_dir+'\\Dataset'\n",
        "print(path)   \n",
        "\n",
        "# all files\n",
        "files = os.listdir(path)\n",
        "print(files)"
      ]
    },
    {
      "cell_type": "code",
      "execution_count": null,
      "id": "07dd3010",
      "metadata": {
        "id": "07dd3010"
      },
      "outputs": [],
      "source": [
        "files.sort(key=lambda f: int(re.sub('\\D', '', f)))"
      ]
    },
    {
      "cell_type": "code",
      "execution_count": null,
      "id": "6ca4eb78",
      "metadata": {
        "id": "6ca4eb78",
        "outputId": "ed3fb180-56cf-48d3-e9bf-6886906216c2"
      },
      "outputs": [
        {
          "name": "stdout",
          "output_type": "stream",
          "text": [
            "<DOC>\n",
            "<DOCNO>\n",
            "1\n",
            "</DOCNO>\n",
            "<TITLE>\n",
            "experimental investigation of the aerodynamics of a\n",
            "wing in a slipstream .\n",
            "</TITLE>\n",
            "<AUTHOR>\n",
            "brenckman,m.\n",
            "</AUTHOR>\n",
            "<BIBLIO>\n",
            "j. ae. scs. 25, 1958, 324.\n",
            "</BIBLIO>\n",
            "<TEXT>\n",
            "  an experimental study of a wing in a propeller slipstream was\n",
            "made in order to determine the spanwise distribution of the lift\n",
            "increase due to slipstream at different angles of attack of the wing\n",
            "and at different free stream to slipstream velocity ratios .  the\n",
            "results were intended in part as an evaluation basis for different\n",
            "theoretical treatments of this problem .\n",
            "  the comparative span loading curves, together with supporting\n",
            "evidence, showed that a substantial part of the lift increment\n",
            "produced by the slipstream was due to a /destalling/ or boundary-layer-control\n",
            "effect .  the integrated remaining lift increment,\n",
            "after subtracting this destalling lift, was found to agree\n",
            "well with a potential flow theory .\n",
            "  an empirical evaluation of the destalling effects was made for\n",
            "the specific configuration of the experiment .\n",
            "</TEXT>\n",
            "</DOC>\n",
            "\n",
            "<DOC>\n",
            "<DOCNO>\n",
            "2\n",
            "</DOCNO>\n",
            "<TITLE>\n",
            "simple shear flow past a flat plate in an incompressible fluid of small\n",
            "viscosity .\n",
            "</TITLE>\n",
            "<AUTHOR>\n",
            "ting-yili\n",
            "</AUTHOR>\n",
            "<BIBLIO>\n",
            "department of aeronautical engineering, rensselaer polytechnic\n",
            "institute\n",
            "troy, n.y.\n",
            "</BIBLIO>\n",
            "<TEXT>\n",
            "in the study of high-speed viscous flow past a two-dimensional body it\n",
            "is usually necessary to consider a curved shock wave emitting from the\n",
            "nose or leading edge of the body .  consequently, there exists an inviscid\n",
            "rotational flow region between the shock wave and the boundary layer\n",
            ".  such a situation arises, for instance, in the study of the hypersonic\n",
            "viscous flow past a flat plate .  the situation is somewhat different\n",
            "from prandtl's classical boundary-layer problem . in prandtl's\n",
            "original problem the inviscid free stream outside the boundary layer is\n",
            "irrotational while in a hypersonic boundary-layer problem the inviscid\n",
            "free stream must be considered as rotational .  the possible effects of\n",
            "vorticity have been recently discussed by ferri and libby .  in the present\n",
            "paper, the simple shear flow past a flat plate in a fluid of small\n",
            "viscosity is investigated .  it can be shown that this problem can again\n",
            "be treated by the boundary-layer approximation, the only novel feature\n",
            "being that the free stream has a constant vorticity .  the discussion\n",
            "here is restricted to two-dimensional incompressible steady flow .\n",
            "</TEXT>\n",
            "</DOC>\n",
            "\n",
            "<DOC>\n",
            "<DOCNO>\n",
            "3\n",
            "</DOCNO>\n",
            "<TITLE>\n",
            "the boundary layer in simple shear flow past a flat plate .\n",
            "</TITLE>\n",
            "<AUTHOR>\n",
            "m. b. glauert\n",
            "</AUTHOR>\n",
            "<BIBLIO>\n",
            "department of mathematics, university of manchester, manchester,\n",
            "england\n",
            "</BIBLIO>\n",
            "<TEXT>\n",
            "the boundary-layer equations are presented for steady\n",
            "incompressible flow with no pressure gradient .\n",
            "</TEXT>\n",
            "</DOC>\n",
            "\n",
            "<DOC>\n",
            "<DOCNO>\n",
            "4\n",
            "</DOCNO>\n",
            "<TITLE>\n",
            "approximate solutions of the incompressible laminar\n",
            "boundary layer equations for a plate in shear flow .\n",
            "</TITLE>\n",
            "<AUTHOR>\n",
            "yen,k.t.\n",
            "</AUTHOR>\n",
            "<BIBLIO>\n",
            "j. ae. scs. 22, 1955, 728.\n",
            "</BIBLIO>\n",
            "<TEXT>\n",
            "  the two-dimensional steady boundary-layer\n",
            "problem for a flat plate in a\n",
            "shear flow of incompressible fluid is considered .\n",
            "solutions for the boundarylayer\n",
            "thickness, skin friction, and the velocity\n",
            "distribution in the boundary\n",
            "layer are obtained by the karman-pohlhausen\n",
            "technique .  comparison with\n",
            "the boundary layer of a uniform flow has also\n",
            "been made to show the effect of\n",
            "vorticity .\n",
            "</TEXT>\n",
            "</DOC>\n",
            "\n",
            "<DOC>\n",
            "<DOCNO>\n",
            "5\n",
            "</DOCNO>\n",
            "<TITLE>\n",
            "one-dimensional transient heat conduction into a double-layer\n",
            "slab subjected to a linear heat input for a small time\n",
            "internal .\n",
            "</TITLE>\n",
            "<AUTHOR>\n",
            "wasserman,b.\n",
            "</AUTHOR>\n",
            "<BIBLIO>\n",
            "j. ae. scs. 24, 1957, 924.\n",
            "</BIBLIO>\n",
            "<TEXT>\n",
            "  analytic solutions are presented for the transient heat conduction\n",
            "in composite slabs exposed at one surface to a\n",
            "triangular heat rate .  this type of heating rate may occur, for\n",
            "example, during aerodynamic heating .\n",
            "</TEXT>\n",
            "</DOC>\n",
            "\n",
            "<DOC>\n",
            "<DOCNO>\n",
            "6\n",
            "</DOCNO>\n",
            "<TITLE>\n",
            "one-dimensional transient heat flow in a multilayer\n",
            "slab .\n",
            "</TITLE>\n",
            "<AUTHOR>\n",
            "campbell,w.f.\n",
            "</AUTHOR>\n",
            "<BIBLIO>\n",
            "j. ae. scs. 25, 1958, 340.\n",
            "</BIBLIO>\n",
            "<TEXT>\n",
            "  in a recent contribution to the readers'\n",
            "forum wassermann gave analytic\n",
            "solutions for the temperature in a double\n",
            "layer slab, with a triangular heat\n",
            "rate input at one face, insulated at the other,\n",
            "and with no thermal resistance\n",
            "at the interface .  his solutions were for the\n",
            "three particular cases..\n",
            "i propose here to give the general solution\n",
            "to this problem, to indicate\n",
            "briefly how it is obtained using the method of\n",
            "reference 2, and to point out\n",
            "that the solutions given by wassermann are\n",
            "incomplete for times longer\n",
            "than the duration of the heat input .\n",
            "</TEXT>\n",
            "</DOC>\n",
            "\n"
          ]
        }
      ],
      "source": [
        "# Reading first 5 files\n",
        "\n",
        "def first_five_file_contents_(files):\n",
        "    i=0\n",
        "    for file in files:\n",
        "      if os.path.isfile(os.path.join(path, file)):\n",
        "        # Below line opens a file located at the path specified by the path variable with the name specified by the file variable, in read mode ('r').\n",
        "        # os.path.join(path, file) is used to join the path and file strings to form a valid file path, regardless of the operating system being used.\n",
        "        f = open(os.path.join(path, file),'r')\n",
        "        # f.read() is used to read the contents of a file object.\n",
        "        data = f.read()\n",
        "        print(data) \n",
        "        # f.close() is a method that is used to close a file object that was previously opened.\n",
        "        f.close()\n",
        "        if(i==5):\n",
        "          break\n",
        "        i+=1\n",
        "first_five_file_contents_(files)"
      ]
    },
    {
      "cell_type": "code",
      "execution_count": null,
      "id": "314ad45c",
      "metadata": {
        "id": "314ad45c"
      },
      "outputs": [],
      "source": [
        "# creating the document id for each file\n",
        "docId = {}"
      ]
    },
    {
      "cell_type": "code",
      "execution_count": null,
      "id": "b102972c",
      "metadata": {
        "id": "b102972c"
      },
      "outputs": [],
      "source": [
        "# Importing BeautifulSoup from bs4. It is used for web scraping and parsing HTML, providing a convenient and flexible way to extract and manipulate data from web pages.\n",
        "from bs4 import BeautifulSoup \n",
        "\n",
        "i=1\n",
        "for file in files:\n",
        "  if os.path.isfile(os.path.join(path, file)):\n",
        "\n",
        "    # open file for reading data\n",
        "    f = open(os.path.join(path, file),'r')\n",
        "    \n",
        "    docId[i] = file\n",
        "    i+=1\n",
        "    # # f.read() is used to read the contents of a file object.\n",
        "    data = f.read()\n",
        "    # data.lower() is a method used to convert a string to lowercase.\n",
        "    data = data.lower()\n",
        "    # f.close() is a method that is used to close a file object that was previously opened.\n",
        "    f.close()\n",
        "\n",
        "    # open file for overwriting\n",
        "    # open(os.path.join(path, file), 'w') is a function call that opens a file in write mode.\n",
        "    # os.path.join(path, file) function call is used to join the path and file name into a single string that represents the file's location in the operating system's file system.\n",
        "    f= open(os.path.join(path, file),'w')\n",
        "    # BeautifulSoup(data) is a function call that creates a BeautifulSoup object, which is used to parse and extract data from HTML  documents.\n",
        "    # The data parameter passed to the BeautifulSoup constructor is typically a string that contains the HTML content to be parsed. \n",
        "    soup = BeautifulSoup(data) \n",
        "    # soup.find('title').contents is used to extract the contents of the title element in an HTML document.\n",
        "    title = soup.find('title').contents\n",
        "    # soup.find('text').contents is used to extract the contents of the text element in an HTML document, if such an element exists.\n",
        "    text = soup.find('text').contents\n",
        "    f.write(title[0].replace('\\n','') + text[0].replace('\\n',''))\n",
        "    f.close()\n",
        "    #print(title[0].replace('\\n','') + text[0].replace('\\n',''))"
      ]
    },
    {
      "cell_type": "code",
      "execution_count": null,
      "id": "53aa08b5",
      "metadata": {
        "id": "53aa08b5",
        "outputId": "0ba8b412-31d5-4b37-d24f-240de6bee3e1"
      },
      "outputs": [
        {
          "name": "stdout",
          "output_type": "stream",
          "text": [
            "experimental investigation of the aerodynamics of awing in a slipstream .  an experimental study of a wing in a propeller slipstream wasmade in order to determine the spanwise distribution of the liftincrease due to slipstream at different angles of attack of the wingand at different free stream to slipstream velocity ratios .  theresults were intended in part as an evaluation basis for differenttheoretical treatments of this problem .  the comparative span loading curves, together with supportingevidence, showed that a substantial part of the lift incrementproduced by the slipstream was due to a /destalling/ or boundary-layer-controleffect .  the integrated remaining lift increment,after subtracting this destalling lift, was found to agreewell with a potential flow theory .  an empirical evaluation of the destalling effects was made forthe specific configuration of the experiment .\n",
            "simple shear flow past a flat plate in an incompressible fluid of smallviscosity .in the study of high-speed viscous flow past a two-dimensional body itis usually necessary to consider a curved shock wave emitting from thenose or leading edge of the body .  consequently, there exists an inviscidrotational flow region between the shock wave and the boundary layer.  such a situation arises, for instance, in the study of the hypersonicviscous flow past a flat plate .  the situation is somewhat differentfrom prandtl's classical boundary-layer problem . in prandtl'soriginal problem the inviscid free stream outside the boundary layer isirrotational while in a hypersonic boundary-layer problem the inviscidfree stream must be considered as rotational .  the possible effects ofvorticity have been recently discussed by ferri and libby .  in the presentpaper, the simple shear flow past a flat plate in a fluid of smallviscosity is investigated .  it can be shown that this problem can againbe treated by the boundary-layer approximation, the only novel featurebeing that the free stream has a constant vorticity .  the discussionhere is restricted to two-dimensional incompressible steady flow .\n",
            "the boundary layer in simple shear flow past a flat plate .the boundary-layer equations are presented for steadyincompressible flow with no pressure gradient .\n",
            "approximate solutions of the incompressible laminarboundary layer equations for a plate in shear flow .  the two-dimensional steady boundary-layerproblem for a flat plate in ashear flow of incompressible fluid is considered .solutions for the boundarylayerthickness, skin friction, and the velocitydistribution in the boundarylayer are obtained by the karman-pohlhausentechnique .  comparison withthe boundary layer of a uniform flow has alsobeen made to show the effect ofvorticity .\n",
            "one-dimensional transient heat conduction into a double-layerslab subjected to a linear heat input for a small timeinternal .  analytic solutions are presented for the transient heat conductionin composite slabs exposed at one surface to atriangular heat rate .  this type of heating rate may occur, forexample, during aerodynamic heating .\n",
            "one-dimensional transient heat flow in a multilayerslab .  in a recent contribution to the readers'forum wassermann gave analyticsolutions for the temperature in a doublelayer slab, with a triangular heatrate input at one face, insulated at the other,and with no thermal resistanceat the interface .  his solutions were for thethree particular cases..i propose here to give the general solutionto this problem, to indicatebriefly how it is obtained using the method ofreference 2, and to point outthat the solutions given by wassermann areincomplete for times longerthan the duration of the heat input .\n"
          ]
        }
      ],
      "source": [
        "# Reading file after text extraction\n",
        "first_five_file_contents_(files)"
      ]
    },
    {
      "cell_type": "code",
      "execution_count": null,
      "id": "0e89c14b",
      "metadata": {
        "id": "0e89c14b",
        "outputId": "27e78c53-5269-4ac6-e7a7-5ad63d40f985"
      },
      "outputs": [
        {
          "name": "stdout",
          "output_type": "stream",
          "text": [
            "{1: 'cranfield0001', 2: 'cranfield0002', 3: 'cranfield0003', 4: 'cranfield0004', 5: 'cranfield0005', 6: 'cranfield0006', 7: 'cranfield0007', 8: 'cranfield0008', 9: 'cranfield0009', 10: 'cranfield0010', 11: 'cranfield0011', 12: 'cranfield0012', 13: 'cranfield0013', 14: 'cranfield0014', 15: 'cranfield0015', 16: 'cranfield0016', 17: 'cranfield0017', 18: 'cranfield0018', 19: 'cranfield0019', 20: 'cranfield0020', 21: 'cranfield0021', 22: 'cranfield0022', 23: 'cranfield0023', 24: 'cranfield0024', 25: 'cranfield0025', 26: 'cranfield0026', 27: 'cranfield0027', 28: 'cranfield0028', 29: 'cranfield0029', 30: 'cranfield0030', 31: 'cranfield0031', 32: 'cranfield0032', 33: 'cranfield0033', 34: 'cranfield0034', 35: 'cranfield0035', 36: 'cranfield0036', 37: 'cranfield0037', 38: 'cranfield0038', 39: 'cranfield0039', 40: 'cranfield0040', 41: 'cranfield0041', 42: 'cranfield0042', 43: 'cranfield0043', 44: 'cranfield0044', 45: 'cranfield0045', 46: 'cranfield0046', 47: 'cranfield0047', 48: 'cranfield0048', 49: 'cranfield0049', 50: 'cranfield0050', 51: 'cranfield0051', 52: 'cranfield0052', 53: 'cranfield0053', 54: 'cranfield0054', 55: 'cranfield0055', 56: 'cranfield0056', 57: 'cranfield0057', 58: 'cranfield0058', 59: 'cranfield0059', 60: 'cranfield0060', 61: 'cranfield0061', 62: 'cranfield0062', 63: 'cranfield0063', 64: 'cranfield0064', 65: 'cranfield0065', 66: 'cranfield0066', 67: 'cranfield0067', 68: 'cranfield0068', 69: 'cranfield0069', 70: 'cranfield0070', 71: 'cranfield0071', 72: 'cranfield0072', 73: 'cranfield0073', 74: 'cranfield0074', 75: 'cranfield0075', 76: 'cranfield0076', 77: 'cranfield0077', 78: 'cranfield0078', 79: 'cranfield0079', 80: 'cranfield0080', 81: 'cranfield0081', 82: 'cranfield0082', 83: 'cranfield0083', 84: 'cranfield0084', 85: 'cranfield0085', 86: 'cranfield0086', 87: 'cranfield0087', 88: 'cranfield0088', 89: 'cranfield0089', 90: 'cranfield0090', 91: 'cranfield0091', 92: 'cranfield0092', 93: 'cranfield0093', 94: 'cranfield0094', 95: 'cranfield0095', 96: 'cranfield0096', 97: 'cranfield0097', 98: 'cranfield0098', 99: 'cranfield0099', 100: 'cranfield0100', 101: 'cranfield0101', 102: 'cranfield0102', 103: 'cranfield0103', 104: 'cranfield0104', 105: 'cranfield0105', 106: 'cranfield0106', 107: 'cranfield0107', 108: 'cranfield0108', 109: 'cranfield0109', 110: 'cranfield0110', 111: 'cranfield0111', 112: 'cranfield0112', 113: 'cranfield0113', 114: 'cranfield0114', 115: 'cranfield0115', 116: 'cranfield0116', 117: 'cranfield0117', 118: 'cranfield0118', 119: 'cranfield0119', 120: 'cranfield0120', 121: 'cranfield0121', 122: 'cranfield0122', 123: 'cranfield0123', 124: 'cranfield0124', 125: 'cranfield0125', 126: 'cranfield0126', 127: 'cranfield0127', 128: 'cranfield0128', 129: 'cranfield0129', 130: 'cranfield0130', 131: 'cranfield0131', 132: 'cranfield0132', 133: 'cranfield0133', 134: 'cranfield0134', 135: 'cranfield0135', 136: 'cranfield0136', 137: 'cranfield0137', 138: 'cranfield0138', 139: 'cranfield0139', 140: 'cranfield0140', 141: 'cranfield0141', 142: 'cranfield0142', 143: 'cranfield0143', 144: 'cranfield0144', 145: 'cranfield0145', 146: 'cranfield0146', 147: 'cranfield0147', 148: 'cranfield0148', 149: 'cranfield0149', 150: 'cranfield0150', 151: 'cranfield0151', 152: 'cranfield0152', 153: 'cranfield0153', 154: 'cranfield0154', 155: 'cranfield0155', 156: 'cranfield0156', 157: 'cranfield0157', 158: 'cranfield0158', 159: 'cranfield0159', 160: 'cranfield0160', 161: 'cranfield0161', 162: 'cranfield0162', 163: 'cranfield0163', 164: 'cranfield0164', 165: 'cranfield0165', 166: 'cranfield0166', 167: 'cranfield0167', 168: 'cranfield0168', 169: 'cranfield0169', 170: 'cranfield0170', 171: 'cranfield0171', 172: 'cranfield0172', 173: 'cranfield0173', 174: 'cranfield0174', 175: 'cranfield0175', 176: 'cranfield0176', 177: 'cranfield0177', 178: 'cranfield0178', 179: 'cranfield0179', 180: 'cranfield0180', 181: 'cranfield0181', 182: 'cranfield0182', 183: 'cranfield0183', 184: 'cranfield0184', 185: 'cranfield0185', 186: 'cranfield0186', 187: 'cranfield0187', 188: 'cranfield0188', 189: 'cranfield0189', 190: 'cranfield0190', 191: 'cranfield0191', 192: 'cranfield0192', 193: 'cranfield0193', 194: 'cranfield0194', 195: 'cranfield0195', 196: 'cranfield0196', 197: 'cranfield0197', 198: 'cranfield0198', 199: 'cranfield0199', 200: 'cranfield0200', 201: 'cranfield0201', 202: 'cranfield0202', 203: 'cranfield0203', 204: 'cranfield0204', 205: 'cranfield0205', 206: 'cranfield0206', 207: 'cranfield0207', 208: 'cranfield0208', 209: 'cranfield0209', 210: 'cranfield0210', 211: 'cranfield0211', 212: 'cranfield0212', 213: 'cranfield0213', 214: 'cranfield0214', 215: 'cranfield0215', 216: 'cranfield0216', 217: 'cranfield0217', 218: 'cranfield0218', 219: 'cranfield0219', 220: 'cranfield0220', 221: 'cranfield0221', 222: 'cranfield0222', 223: 'cranfield0223', 224: 'cranfield0224', 225: 'cranfield0225', 226: 'cranfield0226', 227: 'cranfield0227', 228: 'cranfield0228', 229: 'cranfield0229', 230: 'cranfield0230', 231: 'cranfield0231', 232: 'cranfield0232', 233: 'cranfield0233', 234: 'cranfield0234', 235: 'cranfield0235', 236: 'cranfield0236', 237: 'cranfield0237', 238: 'cranfield0238', 239: 'cranfield0239', 240: 'cranfield0240', 241: 'cranfield0241', 242: 'cranfield0242', 243: 'cranfield0243', 244: 'cranfield0244', 245: 'cranfield0245', 246: 'cranfield0246', 247: 'cranfield0247', 248: 'cranfield0248', 249: 'cranfield0249', 250: 'cranfield0250', 251: 'cranfield0251', 252: 'cranfield0252', 253: 'cranfield0253', 254: 'cranfield0254', 255: 'cranfield0255', 256: 'cranfield0256', 257: 'cranfield0257', 258: 'cranfield0258', 259: 'cranfield0259', 260: 'cranfield0260', 261: 'cranfield0261', 262: 'cranfield0262', 263: 'cranfield0263', 264: 'cranfield0264', 265: 'cranfield0265', 266: 'cranfield0266', 267: 'cranfield0267', 268: 'cranfield0268', 269: 'cranfield0269', 270: 'cranfield0270', 271: 'cranfield0271', 272: 'cranfield0272', 273: 'cranfield0273', 274: 'cranfield0274', 275: 'cranfield0275', 276: 'cranfield0276', 277: 'cranfield0277', 278: 'cranfield0278', 279: 'cranfield0279', 280: 'cranfield0280', 281: 'cranfield0281', 282: 'cranfield0282', 283: 'cranfield0283', 284: 'cranfield0284', 285: 'cranfield0285', 286: 'cranfield0286', 287: 'cranfield0287', 288: 'cranfield0288', 289: 'cranfield0289', 290: 'cranfield0290', 291: 'cranfield0291', 292: 'cranfield0292', 293: 'cranfield0293', 294: 'cranfield0294', 295: 'cranfield0295', 296: 'cranfield0296', 297: 'cranfield0297', 298: 'cranfield0298', 299: 'cranfield0299', 300: 'cranfield0300', 301: 'cranfield0301', 302: 'cranfield0302', 303: 'cranfield0303', 304: 'cranfield0304', 305: 'cranfield0305', 306: 'cranfield0306', 307: 'cranfield0307', 308: 'cranfield0308', 309: 'cranfield0309', 310: 'cranfield0310', 311: 'cranfield0311', 312: 'cranfield0312', 313: 'cranfield0313', 314: 'cranfield0314', 315: 'cranfield0315', 316: 'cranfield0316', 317: 'cranfield0317', 318: 'cranfield0318', 319: 'cranfield0319', 320: 'cranfield0320', 321: 'cranfield0321', 322: 'cranfield0322', 323: 'cranfield0323', 324: 'cranfield0324', 325: 'cranfield0325', 326: 'cranfield0326', 327: 'cranfield0327', 328: 'cranfield0328', 329: 'cranfield0329', 330: 'cranfield0330', 331: 'cranfield0331', 332: 'cranfield0332', 333: 'cranfield0333', 334: 'cranfield0334', 335: 'cranfield0335', 336: 'cranfield0336', 337: 'cranfield0337', 338: 'cranfield0338', 339: 'cranfield0339', 340: 'cranfield0340', 341: 'cranfield0341', 342: 'cranfield0342', 343: 'cranfield0343', 344: 'cranfield0344', 345: 'cranfield0345', 346: 'cranfield0346', 347: 'cranfield0347', 348: 'cranfield0348', 349: 'cranfield0349', 350: 'cranfield0350', 351: 'cranfield0351', 352: 'cranfield0352', 353: 'cranfield0353', 354: 'cranfield0354', 355: 'cranfield0355', 356: 'cranfield0356', 357: 'cranfield0357', 358: 'cranfield0358', 359: 'cranfield0359', 360: 'cranfield0360', 361: 'cranfield0361', 362: 'cranfield0362', 363: 'cranfield0363', 364: 'cranfield0364', 365: 'cranfield0365', 366: 'cranfield0366', 367: 'cranfield0367', 368: 'cranfield0368', 369: 'cranfield0369', 370: 'cranfield0370', 371: 'cranfield0371', 372: 'cranfield0372', 373: 'cranfield0373', 374: 'cranfield0374', 375: 'cranfield0375', 376: 'cranfield0376', 377: 'cranfield0377', 378: 'cranfield0378', 379: 'cranfield0379', 380: 'cranfield0380', 381: 'cranfield0381', 382: 'cranfield0382', 383: 'cranfield0383', 384: 'cranfield0384', 385: 'cranfield0385', 386: 'cranfield0386', 387: 'cranfield0387', 388: 'cranfield0388', 389: 'cranfield0389', 390: 'cranfield0390', 391: 'cranfield0391', 392: 'cranfield0392', 393: 'cranfield0393', 394: 'cranfield0394', 395: 'cranfield0395', 396: 'cranfield0396', 397: 'cranfield0397', 398: 'cranfield0398', 399: 'cranfield0399', 400: 'cranfield0400', 401: 'cranfield0401', 402: 'cranfield0402', 403: 'cranfield0403', 404: 'cranfield0404', 405: 'cranfield0405', 406: 'cranfield0406', 407: 'cranfield0407', 408: 'cranfield0408', 409: 'cranfield0409', 410: 'cranfield0410', 411: 'cranfield0411', 412: 'cranfield0412', 413: 'cranfield0413', 414: 'cranfield0414', 415: 'cranfield0415', 416: 'cranfield0416', 417: 'cranfield0417', 418: 'cranfield0418', 419: 'cranfield0419', 420: 'cranfield0420', 421: 'cranfield0421', 422: 'cranfield0422', 423: 'cranfield0423', 424: 'cranfield0424', 425: 'cranfield0425', 426: 'cranfield0426', 427: 'cranfield0427', 428: 'cranfield0428', 429: 'cranfield0429', 430: 'cranfield0430', 431: 'cranfield0431', 432: 'cranfield0432', 433: 'cranfield0433', 434: 'cranfield0434', 435: 'cranfield0435', 436: 'cranfield0436', 437: 'cranfield0437', 438: 'cranfield0438', 439: 'cranfield0439', 440: 'cranfield0440', 441: 'cranfield0441', 442: 'cranfield0442', 443: 'cranfield0443', 444: 'cranfield0444', 445: 'cranfield0445', 446: 'cranfield0446', 447: 'cranfield0447', 448: 'cranfield0448', 449: 'cranfield0449', 450: 'cranfield0450', 451: 'cranfield0451', 452: 'cranfield0452', 453: 'cranfield0453', 454: 'cranfield0454', 455: 'cranfield0455', 456: 'cranfield0456', 457: 'cranfield0457', 458: 'cranfield0458', 459: 'cranfield0459', 460: 'cranfield0460', 461: 'cranfield0461', 462: 'cranfield0462', 463: 'cranfield0463', 464: 'cranfield0464', 465: 'cranfield0465', 466: 'cranfield0466', 467: 'cranfield0467', 468: 'cranfield0468', 469: 'cranfield0469', 470: 'cranfield0470', 471: 'cranfield0471', 472: 'cranfield0472', 473: 'cranfield0473', 474: 'cranfield0474', 475: 'cranfield0475', 476: 'cranfield0476', 477: 'cranfield0477', 478: 'cranfield0478', 479: 'cranfield0479', 480: 'cranfield0480', 481: 'cranfield0481', 482: 'cranfield0482', 483: 'cranfield0483', 484: 'cranfield0484', 485: 'cranfield0485', 486: 'cranfield0486', 487: 'cranfield0487', 488: 'cranfield0488', 489: 'cranfield0489', 490: 'cranfield0490', 491: 'cranfield0491', 492: 'cranfield0492', 493: 'cranfield0493', 494: 'cranfield0494', 495: 'cranfield0495', 496: 'cranfield0496', 497: 'cranfield0497', 498: 'cranfield0498', 499: 'cranfield0499', 500: 'cranfield0500', 501: 'cranfield0501', 502: 'cranfield0502', 503: 'cranfield0503', 504: 'cranfield0504', 505: 'cranfield0505', 506: 'cranfield0506', 507: 'cranfield0507', 508: 'cranfield0508', 509: 'cranfield0509', 510: 'cranfield0510', 511: 'cranfield0511', 512: 'cranfield0512', 513: 'cranfield0513', 514: 'cranfield0514', 515: 'cranfield0515', 516: 'cranfield0516', 517: 'cranfield0517', 518: 'cranfield0518', 519: 'cranfield0519', 520: 'cranfield0520', 521: 'cranfield0521', 522: 'cranfield0522', 523: 'cranfield0523', 524: 'cranfield0524', 525: 'cranfield0525', 526: 'cranfield0526', 527: 'cranfield0527', 528: 'cranfield0528', 529: 'cranfield0529', 530: 'cranfield0530', 531: 'cranfield0531', 532: 'cranfield0532', 533: 'cranfield0533', 534: 'cranfield0534', 535: 'cranfield0535', 536: 'cranfield0536', 537: 'cranfield0537', 538: 'cranfield0538', 539: 'cranfield0539', 540: 'cranfield0540', 541: 'cranfield0541', 542: 'cranfield0542', 543: 'cranfield0543', 544: 'cranfield0544', 545: 'cranfield0545', 546: 'cranfield0546', 547: 'cranfield0547', 548: 'cranfield0548', 549: 'cranfield0549', 550: 'cranfield0550', 551: 'cranfield0551', 552: 'cranfield0552', 553: 'cranfield0553', 554: 'cranfield0554', 555: 'cranfield0555', 556: 'cranfield0556', 557: 'cranfield0557', 558: 'cranfield0558', 559: 'cranfield0559', 560: 'cranfield0560', 561: 'cranfield0561', 562: 'cranfield0562', 563: 'cranfield0563', 564: 'cranfield0564', 565: 'cranfield0565', 566: 'cranfield0566', 567: 'cranfield0567', 568: 'cranfield0568', 569: 'cranfield0569', 570: 'cranfield0570', 571: 'cranfield0571', 572: 'cranfield0572', 573: 'cranfield0573', 574: 'cranfield0574', 575: 'cranfield0575', 576: 'cranfield0576', 577: 'cranfield0577', 578: 'cranfield0578', 579: 'cranfield0579', 580: 'cranfield0580', 581: 'cranfield0581', 582: 'cranfield0582', 583: 'cranfield0583', 584: 'cranfield0584', 585: 'cranfield0585', 586: 'cranfield0586', 587: 'cranfield0587', 588: 'cranfield0588', 589: 'cranfield0589', 590: 'cranfield0590', 591: 'cranfield0591', 592: 'cranfield0592', 593: 'cranfield0593', 594: 'cranfield0594', 595: 'cranfield0595', 596: 'cranfield0596', 597: 'cranfield0597', 598: 'cranfield0598', 599: 'cranfield0599', 600: 'cranfield0600', 601: 'cranfield0601', 602: 'cranfield0602', 603: 'cranfield0603', 604: 'cranfield0604', 605: 'cranfield0605', 606: 'cranfield0606', 607: 'cranfield0607', 608: 'cranfield0608', 609: 'cranfield0609', 610: 'cranfield0610', 611: 'cranfield0611', 612: 'cranfield0612', 613: 'cranfield0613', 614: 'cranfield0614', 615: 'cranfield0615', 616: 'cranfield0616', 617: 'cranfield0617', 618: 'cranfield0618', 619: 'cranfield0619', 620: 'cranfield0620', 621: 'cranfield0621', 622: 'cranfield0622', 623: 'cranfield0623', 624: 'cranfield0624', 625: 'cranfield0625', 626: 'cranfield0626', 627: 'cranfield0627', 628: 'cranfield0628', 629: 'cranfield0629', 630: 'cranfield0630', 631: 'cranfield0631', 632: 'cranfield0632', 633: 'cranfield0633', 634: 'cranfield0634', 635: 'cranfield0635', 636: 'cranfield0636', 637: 'cranfield0637', 638: 'cranfield0638', 639: 'cranfield0639', 640: 'cranfield0640', 641: 'cranfield0641', 642: 'cranfield0642', 643: 'cranfield0643', 644: 'cranfield0644', 645: 'cranfield0645', 646: 'cranfield0646', 647: 'cranfield0647', 648: 'cranfield0648', 649: 'cranfield0649', 650: 'cranfield0650', 651: 'cranfield0651', 652: 'cranfield0652', 653: 'cranfield0653', 654: 'cranfield0654', 655: 'cranfield0655', 656: 'cranfield0656', 657: 'cranfield0657', 658: 'cranfield0658', 659: 'cranfield0659', 660: 'cranfield0660', 661: 'cranfield0661', 662: 'cranfield0662', 663: 'cranfield0663', 664: 'cranfield0664', 665: 'cranfield0665', 666: 'cranfield0666', 667: 'cranfield0667', 668: 'cranfield0668', 669: 'cranfield0669', 670: 'cranfield0670', 671: 'cranfield0671', 672: 'cranfield0672', 673: 'cranfield0673', 674: 'cranfield0674', 675: 'cranfield0675', 676: 'cranfield0676', 677: 'cranfield0677', 678: 'cranfield0678', 679: 'cranfield0679', 680: 'cranfield0680', 681: 'cranfield0681', 682: 'cranfield0682', 683: 'cranfield0683', 684: 'cranfield0684', 685: 'cranfield0685', 686: 'cranfield0686', 687: 'cranfield0687', 688: 'cranfield0688', 689: 'cranfield0689', 690: 'cranfield0690', 691: 'cranfield0691', 692: 'cranfield0692', 693: 'cranfield0693', 694: 'cranfield0694', 695: 'cranfield0695', 696: 'cranfield0696', 697: 'cranfield0697', 698: 'cranfield0698', 699: 'cranfield0699', 700: 'cranfield0700', 701: 'cranfield0701', 702: 'cranfield0702', 703: 'cranfield0703', 704: 'cranfield0704', 705: 'cranfield0705', 706: 'cranfield0706', 707: 'cranfield0707', 708: 'cranfield0708', 709: 'cranfield0709', 710: 'cranfield0710', 711: 'cranfield0711', 712: 'cranfield0712', 713: 'cranfield0713', 714: 'cranfield0714', 715: 'cranfield0715', 716: 'cranfield0716', 717: 'cranfield0717', 718: 'cranfield0718', 719: 'cranfield0719', 720: 'cranfield0720', 721: 'cranfield0721', 722: 'cranfield0722', 723: 'cranfield0723', 724: 'cranfield0724', 725: 'cranfield0725', 726: 'cranfield0726', 727: 'cranfield0727', 728: 'cranfield0728', 729: 'cranfield0729', 730: 'cranfield0730', 731: 'cranfield0731', 732: 'cranfield0732', 733: 'cranfield0733', 734: 'cranfield0734', 735: 'cranfield0735', 736: 'cranfield0736', 737: 'cranfield0737', 738: 'cranfield0738', 739: 'cranfield0739', 740: 'cranfield0740', 741: 'cranfield0741', 742: 'cranfield0742', 743: 'cranfield0743', 744: 'cranfield0744', 745: 'cranfield0745', 746: 'cranfield0746', 747: 'cranfield0747', 748: 'cranfield0748', 749: 'cranfield0749', 750: 'cranfield0750', 751: 'cranfield0751', 752: 'cranfield0752', 753: 'cranfield0753', 754: 'cranfield0754', 755: 'cranfield0755', 756: 'cranfield0756', 757: 'cranfield0757', 758: 'cranfield0758', 759: 'cranfield0759', 760: 'cranfield0760', 761: 'cranfield0761', 762: 'cranfield0762', 763: 'cranfield0763', 764: 'cranfield0764', 765: 'cranfield0765', 766: 'cranfield0766', 767: 'cranfield0767', 768: 'cranfield0768', 769: 'cranfield0769', 770: 'cranfield0770', 771: 'cranfield0771', 772: 'cranfield0772', 773: 'cranfield0773', 774: 'cranfield0774', 775: 'cranfield0775', 776: 'cranfield0776', 777: 'cranfield0777', 778: 'cranfield0778', 779: 'cranfield0779', 780: 'cranfield0780', 781: 'cranfield0781', 782: 'cranfield0782', 783: 'cranfield0783', 784: 'cranfield0784', 785: 'cranfield0785', 786: 'cranfield0786', 787: 'cranfield0787', 788: 'cranfield0788', 789: 'cranfield0789', 790: 'cranfield0790', 791: 'cranfield0791', 792: 'cranfield0792', 793: 'cranfield0793', 794: 'cranfield0794', 795: 'cranfield0795', 796: 'cranfield0796', 797: 'cranfield0797', 798: 'cranfield0798', 799: 'cranfield0799', 800: 'cranfield0800', 801: 'cranfield0801', 802: 'cranfield0802', 803: 'cranfield0803', 804: 'cranfield0804', 805: 'cranfield0805', 806: 'cranfield0806', 807: 'cranfield0807', 808: 'cranfield0808', 809: 'cranfield0809', 810: 'cranfield0810', 811: 'cranfield0811', 812: 'cranfield0812', 813: 'cranfield0813', 814: 'cranfield0814', 815: 'cranfield0815', 816: 'cranfield0816', 817: 'cranfield0817', 818: 'cranfield0818', 819: 'cranfield0819', 820: 'cranfield0820', 821: 'cranfield0821', 822: 'cranfield0822', 823: 'cranfield0823', 824: 'cranfield0824', 825: 'cranfield0825', 826: 'cranfield0826', 827: 'cranfield0827', 828: 'cranfield0828', 829: 'cranfield0829', 830: 'cranfield0830', 831: 'cranfield0831', 832: 'cranfield0832', 833: 'cranfield0833', 834: 'cranfield0834', 835: 'cranfield0835', 836: 'cranfield0836', 837: 'cranfield0837', 838: 'cranfield0838', 839: 'cranfield0839', 840: 'cranfield0840', 841: 'cranfield0841', 842: 'cranfield0842', 843: 'cranfield0843', 844: 'cranfield0844', 845: 'cranfield0845', 846: 'cranfield0846', 847: 'cranfield0847', 848: 'cranfield0848', 849: 'cranfield0849', 850: 'cranfield0850', 851: 'cranfield0851', 852: 'cranfield0852', 853: 'cranfield0853', 854: 'cranfield0854', 855: 'cranfield0855', 856: 'cranfield0856', 857: 'cranfield0857', 858: 'cranfield0858', 859: 'cranfield0859', 860: 'cranfield0860', 861: 'cranfield0861', 862: 'cranfield0862', 863: 'cranfield0863', 864: 'cranfield0864', 865: 'cranfield0865', 866: 'cranfield0866', 867: 'cranfield0867', 868: 'cranfield0868', 869: 'cranfield0869', 870: 'cranfield0870', 871: 'cranfield0871', 872: 'cranfield0872', 873: 'cranfield0873', 874: 'cranfield0874', 875: 'cranfield0875', 876: 'cranfield0876', 877: 'cranfield0877', 878: 'cranfield0878', 879: 'cranfield0879', 880: 'cranfield0880', 881: 'cranfield0881', 882: 'cranfield0882', 883: 'cranfield0883', 884: 'cranfield0884', 885: 'cranfield0885', 886: 'cranfield0886', 887: 'cranfield0887', 888: 'cranfield0888', 889: 'cranfield0889', 890: 'cranfield0890', 891: 'cranfield0891', 892: 'cranfield0892', 893: 'cranfield0893', 894: 'cranfield0894', 895: 'cranfield0895', 896: 'cranfield0896', 897: 'cranfield0897', 898: 'cranfield0898', 899: 'cranfield0899', 900: 'cranfield0900', 901: 'cranfield0901', 902: 'cranfield0902', 903: 'cranfield0903', 904: 'cranfield0904', 905: 'cranfield0905', 906: 'cranfield0906', 907: 'cranfield0907', 908: 'cranfield0908', 909: 'cranfield0909', 910: 'cranfield0910', 911: 'cranfield0911', 912: 'cranfield0912', 913: 'cranfield0913', 914: 'cranfield0914', 915: 'cranfield0915', 916: 'cranfield0916', 917: 'cranfield0917', 918: 'cranfield0918', 919: 'cranfield0919', 920: 'cranfield0920', 921: 'cranfield0921', 922: 'cranfield0922', 923: 'cranfield0923', 924: 'cranfield0924', 925: 'cranfield0925', 926: 'cranfield0926', 927: 'cranfield0927', 928: 'cranfield0928', 929: 'cranfield0929', 930: 'cranfield0930', 931: 'cranfield0931', 932: 'cranfield0932', 933: 'cranfield0933', 934: 'cranfield0934', 935: 'cranfield0935', 936: 'cranfield0936', 937: 'cranfield0937', 938: 'cranfield0938', 939: 'cranfield0939', 940: 'cranfield0940', 941: 'cranfield0941', 942: 'cranfield0942', 943: 'cranfield0943', 944: 'cranfield0944', 945: 'cranfield0945', 946: 'cranfield0946', 947: 'cranfield0947', 948: 'cranfield0948', 949: 'cranfield0949', 950: 'cranfield0950', 951: 'cranfield0951', 952: 'cranfield0952', 953: 'cranfield0953', 954: 'cranfield0954', 955: 'cranfield0955', 956: 'cranfield0956', 957: 'cranfield0957', 958: 'cranfield0958', 959: 'cranfield0959', 960: 'cranfield0960', 961: 'cranfield0961', 962: 'cranfield0962', 963: 'cranfield0963', 964: 'cranfield0964', 965: 'cranfield0965', 966: 'cranfield0966', 967: 'cranfield0967', 968: 'cranfield0968', 969: 'cranfield0969', 970: 'cranfield0970', 971: 'cranfield0971', 972: 'cranfield0972', 973: 'cranfield0973', 974: 'cranfield0974', 975: 'cranfield0975', 976: 'cranfield0976', 977: 'cranfield0977', 978: 'cranfield0978', 979: 'cranfield0979', 980: 'cranfield0980', 981: 'cranfield0981', 982: 'cranfield0982', 983: 'cranfield0983', 984: 'cranfield0984', 985: 'cranfield0985', 986: 'cranfield0986', 987: 'cranfield0987', 988: 'cranfield0988', 989: 'cranfield0989', 990: 'cranfield0990', 991: 'cranfield0991', 992: 'cranfield0992', 993: 'cranfield0993', 994: 'cranfield0994', 995: 'cranfield0995', 996: 'cranfield0996', 997: 'cranfield0997', 998: 'cranfield0998', 999: 'cranfield0999', 1000: 'cranfield1000', 1001: 'cranfield1001', 1002: 'cranfield1002', 1003: 'cranfield1003', 1004: 'cranfield1004', 1005: 'cranfield1005', 1006: 'cranfield1006', 1007: 'cranfield1007', 1008: 'cranfield1008', 1009: 'cranfield1009', 1010: 'cranfield1010', 1011: 'cranfield1011', 1012: 'cranfield1012', 1013: 'cranfield1013', 1014: 'cranfield1014', 1015: 'cranfield1015', 1016: 'cranfield1016', 1017: 'cranfield1017', 1018: 'cranfield1018', 1019: 'cranfield1019', 1020: 'cranfield1020', 1021: 'cranfield1021', 1022: 'cranfield1022', 1023: 'cranfield1023', 1024: 'cranfield1024', 1025: 'cranfield1025', 1026: 'cranfield1026', 1027: 'cranfield1027', 1028: 'cranfield1028', 1029: 'cranfield1029', 1030: 'cranfield1030', 1031: 'cranfield1031', 1032: 'cranfield1032', 1033: 'cranfield1033', 1034: 'cranfield1034', 1035: 'cranfield1035', 1036: 'cranfield1036', 1037: 'cranfield1037', 1038: 'cranfield1038', 1039: 'cranfield1039', 1040: 'cranfield1040', 1041: 'cranfield1041', 1042: 'cranfield1042', 1043: 'cranfield1043', 1044: 'cranfield1044', 1045: 'cranfield1045', 1046: 'cranfield1046', 1047: 'cranfield1047', 1048: 'cranfield1048', 1049: 'cranfield1049', 1050: 'cranfield1050', 1051: 'cranfield1051', 1052: 'cranfield1052', 1053: 'cranfield1053', 1054: 'cranfield1054', 1055: 'cranfield1055', 1056: 'cranfield1056', 1057: 'cranfield1057', 1058: 'cranfield1058', 1059: 'cranfield1059', 1060: 'cranfield1060', 1061: 'cranfield1061', 1062: 'cranfield1062', 1063: 'cranfield1063', 1064: 'cranfield1064', 1065: 'cranfield1065', 1066: 'cranfield1066', 1067: 'cranfield1067', 1068: 'cranfield1068', 1069: 'cranfield1069', 1070: 'cranfield1070', 1071: 'cranfield1071', 1072: 'cranfield1072', 1073: 'cranfield1073', 1074: 'cranfield1074', 1075: 'cranfield1075', 1076: 'cranfield1076', 1077: 'cranfield1077', 1078: 'cranfield1078', 1079: 'cranfield1079', 1080: 'cranfield1080', 1081: 'cranfield1081', 1082: 'cranfield1082', 1083: 'cranfield1083', 1084: 'cranfield1084', 1085: 'cranfield1085', 1086: 'cranfield1086', 1087: 'cranfield1087', 1088: 'cranfield1088', 1089: 'cranfield1089', 1090: 'cranfield1090', 1091: 'cranfield1091', 1092: 'cranfield1092', 1093: 'cranfield1093', 1094: 'cranfield1094', 1095: 'cranfield1095', 1096: 'cranfield1096', 1097: 'cranfield1097', 1098: 'cranfield1098', 1099: 'cranfield1099', 1100: 'cranfield1100', 1101: 'cranfield1101', 1102: 'cranfield1102', 1103: 'cranfield1103', 1104: 'cranfield1104', 1105: 'cranfield1105', 1106: 'cranfield1106', 1107: 'cranfield1107', 1108: 'cranfield1108', 1109: 'cranfield1109', 1110: 'cranfield1110', 1111: 'cranfield1111', 1112: 'cranfield1112', 1113: 'cranfield1113', 1114: 'cranfield1114', 1115: 'cranfield1115', 1116: 'cranfield1116', 1117: 'cranfield1117', 1118: 'cranfield1118', 1119: 'cranfield1119', 1120: 'cranfield1120', 1121: 'cranfield1121', 1122: 'cranfield1122', 1123: 'cranfield1123', 1124: 'cranfield1124', 1125: 'cranfield1125', 1126: 'cranfield1126', 1127: 'cranfield1127', 1128: 'cranfield1128', 1129: 'cranfield1129', 1130: 'cranfield1130', 1131: 'cranfield1131', 1132: 'cranfield1132', 1133: 'cranfield1133', 1134: 'cranfield1134', 1135: 'cranfield1135', 1136: 'cranfield1136', 1137: 'cranfield1137', 1138: 'cranfield1138', 1139: 'cranfield1139', 1140: 'cranfield1140', 1141: 'cranfield1141', 1142: 'cranfield1142', 1143: 'cranfield1143', 1144: 'cranfield1144', 1145: 'cranfield1145', 1146: 'cranfield1146', 1147: 'cranfield1147', 1148: 'cranfield1148', 1149: 'cranfield1149', 1150: 'cranfield1150', 1151: 'cranfield1151', 1152: 'cranfield1152', 1153: 'cranfield1153', 1154: 'cranfield1154', 1155: 'cranfield1155', 1156: 'cranfield1156', 1157: 'cranfield1157', 1158: 'cranfield1158', 1159: 'cranfield1159', 1160: 'cranfield1160', 1161: 'cranfield1161', 1162: 'cranfield1162', 1163: 'cranfield1163', 1164: 'cranfield1164', 1165: 'cranfield1165', 1166: 'cranfield1166', 1167: 'cranfield1167', 1168: 'cranfield1168', 1169: 'cranfield1169', 1170: 'cranfield1170', 1171: 'cranfield1171', 1172: 'cranfield1172', 1173: 'cranfield1173', 1174: 'cranfield1174', 1175: 'cranfield1175', 1176: 'cranfield1176', 1177: 'cranfield1177', 1178: 'cranfield1178', 1179: 'cranfield1179', 1180: 'cranfield1180', 1181: 'cranfield1181', 1182: 'cranfield1182', 1183: 'cranfield1183', 1184: 'cranfield1184', 1185: 'cranfield1185', 1186: 'cranfield1186', 1187: 'cranfield1187', 1188: 'cranfield1188', 1189: 'cranfield1189', 1190: 'cranfield1190', 1191: 'cranfield1191', 1192: 'cranfield1192', 1193: 'cranfield1193', 1194: 'cranfield1194', 1195: 'cranfield1195', 1196: 'cranfield1196', 1197: 'cranfield1197', 1198: 'cranfield1198', 1199: 'cranfield1199', 1200: 'cranfield1200', 1201: 'cranfield1201', 1202: 'cranfield1202', 1203: 'cranfield1203', 1204: 'cranfield1204', 1205: 'cranfield1205', 1206: 'cranfield1206', 1207: 'cranfield1207', 1208: 'cranfield1208', 1209: 'cranfield1209', 1210: 'cranfield1210', 1211: 'cranfield1211', 1212: 'cranfield1212', 1213: 'cranfield1213', 1214: 'cranfield1214', 1215: 'cranfield1215', 1216: 'cranfield1216', 1217: 'cranfield1217', 1218: 'cranfield1218', 1219: 'cranfield1219', 1220: 'cranfield1220', 1221: 'cranfield1221', 1222: 'cranfield1222', 1223: 'cranfield1223', 1224: 'cranfield1224', 1225: 'cranfield1225', 1226: 'cranfield1226', 1227: 'cranfield1227', 1228: 'cranfield1228', 1229: 'cranfield1229', 1230: 'cranfield1230', 1231: 'cranfield1231', 1232: 'cranfield1232', 1233: 'cranfield1233', 1234: 'cranfield1234', 1235: 'cranfield1235', 1236: 'cranfield1236', 1237: 'cranfield1237', 1238: 'cranfield1238', 1239: 'cranfield1239', 1240: 'cranfield1240', 1241: 'cranfield1241', 1242: 'cranfield1242', 1243: 'cranfield1243', 1244: 'cranfield1244', 1245: 'cranfield1245', 1246: 'cranfield1246', 1247: 'cranfield1247', 1248: 'cranfield1248', 1249: 'cranfield1249', 1250: 'cranfield1250', 1251: 'cranfield1251', 1252: 'cranfield1252', 1253: 'cranfield1253', 1254: 'cranfield1254', 1255: 'cranfield1255', 1256: 'cranfield1256', 1257: 'cranfield1257', 1258: 'cranfield1258', 1259: 'cranfield1259', 1260: 'cranfield1260', 1261: 'cranfield1261', 1262: 'cranfield1262', 1263: 'cranfield1263', 1264: 'cranfield1264', 1265: 'cranfield1265', 1266: 'cranfield1266', 1267: 'cranfield1267', 1268: 'cranfield1268', 1269: 'cranfield1269', 1270: 'cranfield1270', 1271: 'cranfield1271', 1272: 'cranfield1272', 1273: 'cranfield1273', 1274: 'cranfield1274', 1275: 'cranfield1275', 1276: 'cranfield1276', 1277: 'cranfield1277', 1278: 'cranfield1278', 1279: 'cranfield1279', 1280: 'cranfield1280', 1281: 'cranfield1281', 1282: 'cranfield1282', 1283: 'cranfield1283', 1284: 'cranfield1284', 1285: 'cranfield1285', 1286: 'cranfield1286', 1287: 'cranfield1287', 1288: 'cranfield1288', 1289: 'cranfield1289', 1290: 'cranfield1290', 1291: 'cranfield1291', 1292: 'cranfield1292', 1293: 'cranfield1293', 1294: 'cranfield1294', 1295: 'cranfield1295', 1296: 'cranfield1296', 1297: 'cranfield1297', 1298: 'cranfield1298', 1299: 'cranfield1299', 1300: 'cranfield1300', 1301: 'cranfield1301', 1302: 'cranfield1302', 1303: 'cranfield1303', 1304: 'cranfield1304', 1305: 'cranfield1305', 1306: 'cranfield1306', 1307: 'cranfield1307', 1308: 'cranfield1308', 1309: 'cranfield1309', 1310: 'cranfield1310', 1311: 'cranfield1311', 1312: 'cranfield1312', 1313: 'cranfield1313', 1314: 'cranfield1314', 1315: 'cranfield1315', 1316: 'cranfield1316', 1317: 'cranfield1317', 1318: 'cranfield1318', 1319: 'cranfield1319', 1320: 'cranfield1320', 1321: 'cranfield1321', 1322: 'cranfield1322', 1323: 'cranfield1323', 1324: 'cranfield1324', 1325: 'cranfield1325', 1326: 'cranfield1326', 1327: 'cranfield1327', 1328: 'cranfield1328', 1329: 'cranfield1329', 1330: 'cranfield1330', 1331: 'cranfield1331', 1332: 'cranfield1332', 1333: 'cranfield1333', 1334: 'cranfield1334', 1335: 'cranfield1335', 1336: 'cranfield1336', 1337: 'cranfield1337', 1338: 'cranfield1338', 1339: 'cranfield1339', 1340: 'cranfield1340', 1341: 'cranfield1341', 1342: 'cranfield1342', 1343: 'cranfield1343', 1344: 'cranfield1344', 1345: 'cranfield1345', 1346: 'cranfield1346', 1347: 'cranfield1347', 1348: 'cranfield1348', 1349: 'cranfield1349', 1350: 'cranfield1350', 1351: 'cranfield1351', 1352: 'cranfield1352', 1353: 'cranfield1353', 1354: 'cranfield1354', 1355: 'cranfield1355', 1356: 'cranfield1356', 1357: 'cranfield1357', 1358: 'cranfield1358', 1359: 'cranfield1359', 1360: 'cranfield1360', 1361: 'cranfield1361', 1362: 'cranfield1362', 1363: 'cranfield1363', 1364: 'cranfield1364', 1365: 'cranfield1365', 1366: 'cranfield1366', 1367: 'cranfield1367', 1368: 'cranfield1368', 1369: 'cranfield1369', 1370: 'cranfield1370', 1371: 'cranfield1371', 1372: 'cranfield1372', 1373: 'cranfield1373', 1374: 'cranfield1374', 1375: 'cranfield1375', 1376: 'cranfield1376', 1377: 'cranfield1377', 1378: 'cranfield1378', 1379: 'cranfield1379', 1380: 'cranfield1380', 1381: 'cranfield1381', 1382: 'cranfield1382', 1383: 'cranfield1383', 1384: 'cranfield1384', 1385: 'cranfield1385', 1386: 'cranfield1386', 1387: 'cranfield1387', 1388: 'cranfield1388', 1389: 'cranfield1389', 1390: 'cranfield1390', 1391: 'cranfield1391', 1392: 'cranfield1392', 1393: 'cranfield1393', 1394: 'cranfield1394', 1395: 'cranfield1395', 1396: 'cranfield1396', 1397: 'cranfield1397', 1398: 'cranfield1398', 1399: 'cranfield1399', 1400: 'cranfield1400'}\n"
          ]
        }
      ],
      "source": [
        "# peinting dictionay named docId\n",
        "print(docId) "
      ]
    },
    {
      "cell_type": "code",
      "execution_count": null,
      "id": "4b07dcd8",
      "metadata": {
        "id": "4b07dcd8"
      },
      "outputs": [],
      "source": [
        "# Using json we can easily convert between Python objects and JSON data.\n",
        "import json\n",
        "\n",
        "# open('doc_id.txt', 'w') is a function call that opens a file named doc_id.txt in write mode.\n",
        "with open('doc_id.txt', 'w') as file:\n",
        "     file.write(json.dumps(docId))"
      ]
    },
    {
      "cell_type": "code",
      "execution_count": null,
      "id": "04cb8e3c",
      "metadata": {
        "id": "04cb8e3c",
        "outputId": "8ef391fb-22fc-4b96-87a9-5925f23f9a60"
      },
      "outputs": [
        {
          "name": "stderr",
          "output_type": "stream",
          "text": [
            "[nltk_data] Downloading package punkt to C:\\Users\\Rohit\n",
            "[nltk_data]     Kesarwani\\AppData\\Roaming\\nltk_data...\n",
            "[nltk_data]   Package punkt is already up-to-date!\n",
            "[nltk_data] Downloading package stopwords to C:\\Users\\Rohit\n",
            "[nltk_data]     Kesarwani\\AppData\\Roaming\\nltk_data...\n",
            "[nltk_data]   Package stopwords is already up-to-date!\n"
          ]
        }
      ],
      "source": [
        "# The Natural Language Toolkit (nltk) is used for performing tasks such as: Tokenization, Stemming and Lemmatization etc.\n",
        "import nltk\n",
        "nltk.download('punkt') # The Punkt package is used for tokenizing text, which means splitting text into individual words and sentences.\n",
        "nltk.download('stopwords') # The stopwords  package is used for removing stopwords from text, Stopwords are words that are commonly used in a language, but do not carry much meaning on their own, such as \"the\", \"and\", \"of\", and \"in\". \n",
        "from nltk import tokenize\n",
        "from nltk.corpus import stopwords\n",
        "import re\n",
        "\n"
      ]
    },
    {
      "cell_type": "code",
      "execution_count": null,
      "id": "693ddf49",
      "metadata": {
        "id": "693ddf49"
      },
      "outputs": [],
      "source": [
        "def lower_(files):\n",
        "    for file in files:\n",
        "      if os.path.isfile(os.path.join(path, file)):\n",
        "\n",
        "        # open(os.path.join(path, file),'r') is a function call that opens a file for reading. The os.path.join() function is used to join together a directory path and a filename, creating a full path to the file.\n",
        "        f = open(os.path.join(path, file),'r')\n",
        "        data = f.read()\n",
        "\n",
        "        # lower case the text\n",
        "        data = data.lower()\n",
        "\n",
        "        f.close()\n",
        "\n",
        "        f = open(os.path.join(path, file),'w')\n",
        "        f.write(data)\n",
        "        f.close()"
      ]
    },
    {
      "cell_type": "code",
      "execution_count": null,
      "id": "1da9dc2a",
      "metadata": {
        "id": "1da9dc2a"
      },
      "outputs": [],
      "source": [
        "def tokenization_(files):\n",
        "    i=0\n",
        "    for file in files:\n",
        "      if os.path.isfile(os.path.join(path, file)):\n",
        "\n",
        "        # open file for reading data\n",
        "        f = open(os.path.join(path, file),'r')\n",
        "        data = f.read()\n",
        "\n",
        "        # word tokenize\n",
        "        # tokenize.word_tokenize(data) is a function call that tokenizes the input text data into individual words or tokens using the Punkt tokenizer from the Natural Language Toolkit (NLTK) library.\n",
        "        tokens = tokenize.word_tokenize(data)\n",
        "        if i<5:\n",
        "            print(tokens)\n",
        "            i+=1\n",
        "            \n",
        "        # join tokens\n",
        "        join_tokens = ' '.join(tokens)\n",
        "\n",
        "        f.close()\n",
        "\n",
        "        f = open(os.path.join(path, file),'w')\n",
        "        f.write(join_tokens)\n",
        "        f.close()"
      ]
    },
    {
      "cell_type": "code",
      "execution_count": null,
      "id": "f56e0b25",
      "metadata": {
        "id": "f56e0b25"
      },
      "outputs": [],
      "source": [
        "def remove_stopwords_(files):\n",
        "    i=0\n",
        "    for file in files:\n",
        "      if os.path.isfile(os.path.join(path, file)):\n",
        "\n",
        "        # open file for reading data\n",
        "        f = open(os.path.join(path, file),'r')\n",
        "        data = f.read()\n",
        "\n",
        "        # word tokenize\n",
        "        tokens = tokenize.word_tokenize(data)\n",
        "        \n",
        "        # remove stopwords\n",
        "        # [word for word in tokens if word not in stopwords.words(\"english\")] is a list comprehension that filters out the stop words from a list of tokens.\n",
        "        final = [word for word in tokens if word not in stopwords.words(\"english\")]\n",
        "        if i<5:\n",
        "            print(final)\n",
        "            i+=1\n",
        "        # join tokens\n",
        "        join_final = ' '.join(final)\n",
        "        \n",
        "        f.close()\n",
        "\n",
        "        f = open(os.path.join(path, file),'w')\n",
        "        f.write(join_final)\n",
        "        f.close()"
      ]
    },
    {
      "cell_type": "code",
      "execution_count": null,
      "id": "01a95154",
      "metadata": {
        "id": "01a95154"
      },
      "outputs": [],
      "source": [
        "def remove_punctuation_(files):\n",
        "    for file in files:\n",
        "      if os.path.isfile(os.path.join(path, file)):\n",
        "\n",
        "        # open file for reading data\n",
        "        f = open(os.path.join(path, file),'r')\n",
        "        data = f.read()\n",
        "\n",
        "        # remove punctuation\n",
        "        # re module that provides support for regular expressions. \n",
        "        # re.sub('[^a-zA-Z]', ' ', data) is a regular expression operation that replaces all non-alphabetic characters in the input string data with spaces.\n",
        "        data = re.sub('[^a-zA-Z]', ' ', data)\n",
        "\n",
        "        f.close()\n",
        "\n",
        "        f = open(os.path.join(path, file),'w')\n",
        "        f.write(data)\n",
        "        f.close()"
      ]
    },
    {
      "cell_type": "code",
      "execution_count": null,
      "id": "8d865358",
      "metadata": {
        "id": "8d865358"
      },
      "outputs": [],
      "source": [
        "def remove_blank_space_(files):\n",
        "    for file in files:\n",
        "      if os.path.isfile(os.path.join(path, file)):\n",
        "\n",
        "        # open file for reading data\n",
        "        f = open(os.path.join(path, file),'r')\n",
        "        data = f.read()\n",
        "\n",
        "        # remove blank space\n",
        "        # re.sub(' +', ' ', data) is a regular expression operation that replaces any consecutive sequence of spaces in the input string data with a single space.\n",
        "        data = re.sub(' +', ' ', data)\n",
        "        f.close()\n",
        "\n",
        "        f = open(os.path.join(path, file),'w')\n",
        "        f.write(data)\n",
        "        f.close()"
      ]
    },
    {
      "cell_type": "code",
      "execution_count": null,
      "id": "0b27a52c",
      "metadata": {
        "id": "0b27a52c",
        "outputId": "01f1013a-3a04-44e5-aba8-449826608d12"
      },
      "outputs": [
        {
          "name": "stdout",
          "output_type": "stream",
          "text": [
            "experimental investigation of the aerodynamics of awing in a slipstream .  an experimental study of a wing in a propeller slipstream wasmade in order to determine the spanwise distribution of the liftincrease due to slipstream at different angles of attack of the wingand at different free stream to slipstream velocity ratios .  theresults were intended in part as an evaluation basis for differenttheoretical treatments of this problem .  the comparative span loading curves, together with supportingevidence, showed that a substantial part of the lift incrementproduced by the slipstream was due to a /destalling/ or boundary-layer-controleffect .  the integrated remaining lift increment,after subtracting this destalling lift, was found to agreewell with a potential flow theory .  an empirical evaluation of the destalling effects was made forthe specific configuration of the experiment .\n",
            "simple shear flow past a flat plate in an incompressible fluid of smallviscosity .in the study of high-speed viscous flow past a two-dimensional body itis usually necessary to consider a curved shock wave emitting from thenose or leading edge of the body .  consequently, there exists an inviscidrotational flow region between the shock wave and the boundary layer.  such a situation arises, for instance, in the study of the hypersonicviscous flow past a flat plate .  the situation is somewhat differentfrom prandtl's classical boundary-layer problem . in prandtl'soriginal problem the inviscid free stream outside the boundary layer isirrotational while in a hypersonic boundary-layer problem the inviscidfree stream must be considered as rotational .  the possible effects ofvorticity have been recently discussed by ferri and libby .  in the presentpaper, the simple shear flow past a flat plate in a fluid of smallviscosity is investigated .  it can be shown that this problem can againbe treated by the boundary-layer approximation, the only novel featurebeing that the free stream has a constant vorticity .  the discussionhere is restricted to two-dimensional incompressible steady flow .\n",
            "the boundary layer in simple shear flow past a flat plate .the boundary-layer equations are presented for steadyincompressible flow with no pressure gradient .\n",
            "approximate solutions of the incompressible laminarboundary layer equations for a plate in shear flow .  the two-dimensional steady boundary-layerproblem for a flat plate in ashear flow of incompressible fluid is considered .solutions for the boundarylayerthickness, skin friction, and the velocitydistribution in the boundarylayer are obtained by the karman-pohlhausentechnique .  comparison withthe boundary layer of a uniform flow has alsobeen made to show the effect ofvorticity .\n",
            "one-dimensional transient heat conduction into a double-layerslab subjected to a linear heat input for a small timeinternal .  analytic solutions are presented for the transient heat conductionin composite slabs exposed at one surface to atriangular heat rate .  this type of heating rate may occur, forexample, during aerodynamic heating .\n",
            "one-dimensional transient heat flow in a multilayerslab .  in a recent contribution to the readers'forum wassermann gave analyticsolutions for the temperature in a doublelayer slab, with a triangular heatrate input at one face, insulated at the other,and with no thermal resistanceat the interface .  his solutions were for thethree particular cases..i propose here to give the general solutionto this problem, to indicatebriefly how it is obtained using the method ofreference 2, and to point outthat the solutions given by wassermann areincomplete for times longerthan the duration of the heat input .\n"
          ]
        }
      ],
      "source": [
        "lower_(files)\n",
        "first_five_file_contents_(files)"
      ]
    },
    {
      "cell_type": "code",
      "execution_count": null,
      "id": "6cf5fccb",
      "metadata": {
        "id": "6cf5fccb",
        "outputId": "9e0c52ea-a1e7-4808-a9d6-20663fdf7eed"
      },
      "outputs": [
        {
          "name": "stdout",
          "output_type": "stream",
          "text": [
            "['experimental', 'investigation', 'of', 'the', 'aerodynamics', 'of', 'awing', 'in', 'a', 'slipstream', '.', 'an', 'experimental', 'study', 'of', 'a', 'wing', 'in', 'a', 'propeller', 'slipstream', 'wasmade', 'in', 'order', 'to', 'determine', 'the', 'spanwise', 'distribution', 'of', 'the', 'liftincrease', 'due', 'to', 'slipstream', 'at', 'different', 'angles', 'of', 'attack', 'of', 'the', 'wingand', 'at', 'different', 'free', 'stream', 'to', 'slipstream', 'velocity', 'ratios', '.', 'theresults', 'were', 'intended', 'in', 'part', 'as', 'an', 'evaluation', 'basis', 'for', 'differenttheoretical', 'treatments', 'of', 'this', 'problem', '.', 'the', 'comparative', 'span', 'loading', 'curves', ',', 'together', 'with', 'supportingevidence', ',', 'showed', 'that', 'a', 'substantial', 'part', 'of', 'the', 'lift', 'incrementproduced', 'by', 'the', 'slipstream', 'was', 'due', 'to', 'a', '/destalling/', 'or', 'boundary-layer-controleffect', '.', 'the', 'integrated', 'remaining', 'lift', 'increment', ',', 'after', 'subtracting', 'this', 'destalling', 'lift', ',', 'was', 'found', 'to', 'agreewell', 'with', 'a', 'potential', 'flow', 'theory', '.', 'an', 'empirical', 'evaluation', 'of', 'the', 'destalling', 'effects', 'was', 'made', 'forthe', 'specific', 'configuration', 'of', 'the', 'experiment', '.']\n",
            "['simple', 'shear', 'flow', 'past', 'a', 'flat', 'plate', 'in', 'an', 'incompressible', 'fluid', 'of', 'smallviscosity', '.in', 'the', 'study', 'of', 'high-speed', 'viscous', 'flow', 'past', 'a', 'two-dimensional', 'body', 'itis', 'usually', 'necessary', 'to', 'consider', 'a', 'curved', 'shock', 'wave', 'emitting', 'from', 'thenose', 'or', 'leading', 'edge', 'of', 'the', 'body', '.', 'consequently', ',', 'there', 'exists', 'an', 'inviscidrotational', 'flow', 'region', 'between', 'the', 'shock', 'wave', 'and', 'the', 'boundary', 'layer', '.', 'such', 'a', 'situation', 'arises', ',', 'for', 'instance', ',', 'in', 'the', 'study', 'of', 'the', 'hypersonicviscous', 'flow', 'past', 'a', 'flat', 'plate', '.', 'the', 'situation', 'is', 'somewhat', 'differentfrom', 'prandtl', \"'s\", 'classical', 'boundary-layer', 'problem', '.', 'in', \"prandtl'soriginal\", 'problem', 'the', 'inviscid', 'free', 'stream', 'outside', 'the', 'boundary', 'layer', 'isirrotational', 'while', 'in', 'a', 'hypersonic', 'boundary-layer', 'problem', 'the', 'inviscidfree', 'stream', 'must', 'be', 'considered', 'as', 'rotational', '.', 'the', 'possible', 'effects', 'ofvorticity', 'have', 'been', 'recently', 'discussed', 'by', 'ferri', 'and', 'libby', '.', 'in', 'the', 'presentpaper', ',', 'the', 'simple', 'shear', 'flow', 'past', 'a', 'flat', 'plate', 'in', 'a', 'fluid', 'of', 'smallviscosity', 'is', 'investigated', '.', 'it', 'can', 'be', 'shown', 'that', 'this', 'problem', 'can', 'againbe', 'treated', 'by', 'the', 'boundary-layer', 'approximation', ',', 'the', 'only', 'novel', 'featurebeing', 'that', 'the', 'free', 'stream', 'has', 'a', 'constant', 'vorticity', '.', 'the', 'discussionhere', 'is', 'restricted', 'to', 'two-dimensional', 'incompressible', 'steady', 'flow', '.']\n",
            "['the', 'boundary', 'layer', 'in', 'simple', 'shear', 'flow', 'past', 'a', 'flat', 'plate', '.the', 'boundary-layer', 'equations', 'are', 'presented', 'for', 'steadyincompressible', 'flow', 'with', 'no', 'pressure', 'gradient', '.']\n",
            "['approximate', 'solutions', 'of', 'the', 'incompressible', 'laminarboundary', 'layer', 'equations', 'for', 'a', 'plate', 'in', 'shear', 'flow', '.', 'the', 'two-dimensional', 'steady', 'boundary-layerproblem', 'for', 'a', 'flat', 'plate', 'in', 'ashear', 'flow', 'of', 'incompressible', 'fluid', 'is', 'considered', '.solutions', 'for', 'the', 'boundarylayerthickness', ',', 'skin', 'friction', ',', 'and', 'the', 'velocitydistribution', 'in', 'the', 'boundarylayer', 'are', 'obtained', 'by', 'the', 'karman-pohlhausentechnique', '.', 'comparison', 'withthe', 'boundary', 'layer', 'of', 'a', 'uniform', 'flow', 'has', 'alsobeen', 'made', 'to', 'show', 'the', 'effect', 'ofvorticity', '.']\n",
            "['one-dimensional', 'transient', 'heat', 'conduction', 'into', 'a', 'double-layerslab', 'subjected', 'to', 'a', 'linear', 'heat', 'input', 'for', 'a', 'small', 'timeinternal', '.', 'analytic', 'solutions', 'are', 'presented', 'for', 'the', 'transient', 'heat', 'conductionin', 'composite', 'slabs', 'exposed', 'at', 'one', 'surface', 'to', 'atriangular', 'heat', 'rate', '.', 'this', 'type', 'of', 'heating', 'rate', 'may', 'occur', ',', 'forexample', ',', 'during', 'aerodynamic', 'heating', '.']\n"
          ]
        }
      ],
      "source": [
        "tokenization_(files)\n",
        "# first_five_file_contents_(files)"
      ]
    },
    {
      "cell_type": "code",
      "execution_count": null,
      "id": "2c1522af",
      "metadata": {
        "id": "2c1522af",
        "outputId": "f50e1f1f-1a39-46d2-b64d-a603c790a285"
      },
      "outputs": [
        {
          "name": "stdout",
          "output_type": "stream",
          "text": [
            "['experimental', 'investigation', 'aerodynamics', 'awing', 'slipstream', '.', 'experimental', 'study', 'wing', 'propeller', 'slipstream', 'wasmade', 'order', 'determine', 'spanwise', 'distribution', 'liftincrease', 'due', 'slipstream', 'different', 'angles', 'attack', 'wingand', 'different', 'free', 'stream', 'slipstream', 'velocity', 'ratios', '.', 'theresults', 'intended', 'part', 'evaluation', 'basis', 'differenttheoretical', 'treatments', 'problem', '.', 'comparative', 'span', 'loading', 'curves', ',', 'together', 'supportingevidence', ',', 'showed', 'substantial', 'part', 'lift', 'incrementproduced', 'slipstream', 'due', '/destalling/', 'boundary-layer-controleffect', '.', 'integrated', 'remaining', 'lift', 'increment', ',', 'subtracting', 'destalling', 'lift', ',', 'found', 'agreewell', 'potential', 'flow', 'theory', '.', 'empirical', 'evaluation', 'destalling', 'effects', 'made', 'forthe', 'specific', 'configuration', 'experiment', '.']\n",
            "['simple', 'shear', 'flow', 'past', 'flat', 'plate', 'incompressible', 'fluid', 'smallviscosity', '.in', 'study', 'high-speed', 'viscous', 'flow', 'past', 'two-dimensional', 'body', 'itis', 'usually', 'necessary', 'consider', 'curved', 'shock', 'wave', 'emitting', 'thenose', 'leading', 'edge', 'body', '.', 'consequently', ',', 'exists', 'inviscidrotational', 'flow', 'region', 'shock', 'wave', 'boundary', 'layer', '.', 'situation', 'arises', ',', 'instance', ',', 'study', 'hypersonicviscous', 'flow', 'past', 'flat', 'plate', '.', 'situation', 'somewhat', 'differentfrom', 'prandtl', \"'s\", 'classical', 'boundary-layer', 'problem', '.', \"prandtl'soriginal\", 'problem', 'inviscid', 'free', 'stream', 'outside', 'boundary', 'layer', 'isirrotational', 'hypersonic', 'boundary-layer', 'problem', 'inviscidfree', 'stream', 'must', 'considered', 'rotational', '.', 'possible', 'effects', 'ofvorticity', 'recently', 'discussed', 'ferri', 'libby', '.', 'presentpaper', ',', 'simple', 'shear', 'flow', 'past', 'flat', 'plate', 'fluid', 'smallviscosity', 'investigated', '.', 'shown', 'problem', 'againbe', 'treated', 'boundary-layer', 'approximation', ',', 'novel', 'featurebeing', 'free', 'stream', 'constant', 'vorticity', '.', 'discussionhere', 'restricted', 'two-dimensional', 'incompressible', 'steady', 'flow', '.']\n",
            "['boundary', 'layer', 'simple', 'shear', 'flow', 'past', 'flat', 'plate', '.the', 'boundary-layer', 'equations', 'presented', 'steadyincompressible', 'flow', 'pressure', 'gradient', '.']\n",
            "['approximate', 'solutions', 'incompressible', 'laminarboundary', 'layer', 'equations', 'plate', 'shear', 'flow', '.', 'two-dimensional', 'steady', 'boundary-layerproblem', 'flat', 'plate', 'ashear', 'flow', 'incompressible', 'fluid', 'considered', '.solutions', 'boundarylayerthickness', ',', 'skin', 'friction', ',', 'velocitydistribution', 'boundarylayer', 'obtained', 'karman-pohlhausentechnique', '.', 'comparison', 'withthe', 'boundary', 'layer', 'uniform', 'flow', 'alsobeen', 'made', 'show', 'effect', 'ofvorticity', '.']\n",
            "['one-dimensional', 'transient', 'heat', 'conduction', 'double-layerslab', 'subjected', 'linear', 'heat', 'input', 'small', 'timeinternal', '.', 'analytic', 'solutions', 'presented', 'transient', 'heat', 'conductionin', 'composite', 'slabs', 'exposed', 'one', 'surface', 'atriangular', 'heat', 'rate', '.', 'type', 'heating', 'rate', 'may', 'occur', ',', 'forexample', ',', 'aerodynamic', 'heating', '.']\n"
          ]
        }
      ],
      "source": [
        "remove_stopwords_(files)"
      ]
    },
    {
      "cell_type": "code",
      "execution_count": null,
      "id": "4f8928d9",
      "metadata": {
        "id": "4f8928d9",
        "outputId": "158f965d-dce1-417c-f739-b98c57ee35fa"
      },
      "outputs": [
        {
          "name": "stdout",
          "output_type": "stream",
          "text": [
            "experimental investigation aerodynamics awing slipstream   experimental study wing propeller slipstream wasmade order determine spanwise distribution liftincrease due slipstream different angles attack wingand different free stream slipstream velocity ratios   theresults intended part evaluation basis differenttheoretical treatments problem   comparative span loading curves   together supportingevidence   showed substantial part lift incrementproduced slipstream due  destalling  boundary layer controleffect   integrated remaining lift increment   subtracting destalling lift   found agreewell potential flow theory   empirical evaluation destalling effects made forthe specific configuration experiment  \n",
            "simple shear flow past flat plate incompressible fluid smallviscosity  in study high speed viscous flow past two dimensional body itis usually necessary consider curved shock wave emitting thenose leading edge body   consequently   exists inviscidrotational flow region shock wave boundary layer   situation arises   instance   study hypersonicviscous flow past flat plate   situation somewhat differentfrom prandtl  s classical boundary layer problem   prandtl soriginal problem inviscid free stream outside boundary layer isirrotational hypersonic boundary layer problem inviscidfree stream must considered rotational   possible effects ofvorticity recently discussed ferri libby   presentpaper   simple shear flow past flat plate fluid smallviscosity investigated   shown problem againbe treated boundary layer approximation   novel featurebeing free stream constant vorticity   discussionhere restricted two dimensional incompressible steady flow  \n",
            "boundary layer simple shear flow past flat plate  the boundary layer equations presented steadyincompressible flow pressure gradient  \n",
            "approximate solutions incompressible laminarboundary layer equations plate shear flow   two dimensional steady boundary layerproblem flat plate ashear flow incompressible fluid considered  solutions boundarylayerthickness   skin friction   velocitydistribution boundarylayer obtained karman pohlhausentechnique   comparison withthe boundary layer uniform flow alsobeen made show effect ofvorticity  \n",
            "one dimensional transient heat conduction double layerslab subjected linear heat input small timeinternal   analytic solutions presented transient heat conductionin composite slabs exposed one surface atriangular heat rate   type heating rate may occur   forexample   aerodynamic heating  \n",
            "one dimensional transient heat flow multilayerslab   recent contribution readers forum wassermann gave analyticsolutions temperature doublelayer slab   triangular heatrate input one face   insulated   thermal resistanceat interface   solutions thethree particular cases    propose give general solutionto problem   indicatebriefly obtained using method ofreference     point outthat solutions given wassermann areincomplete times longerthan duration heat input  \n"
          ]
        }
      ],
      "source": [
        "remove_punctuation_(files)\n",
        "first_five_file_contents_(files)"
      ]
    },
    {
      "cell_type": "code",
      "execution_count": null,
      "id": "add0241f",
      "metadata": {
        "id": "add0241f",
        "outputId": "24d42dfa-4f3c-4d9e-a035-61f25537a1a7"
      },
      "outputs": [
        {
          "name": "stdout",
          "output_type": "stream",
          "text": [
            "experimental investigation aerodynamics awing slipstream experimental study wing propeller slipstream wasmade order determine spanwise distribution liftincrease due slipstream different angles attack wingand different free stream slipstream velocity ratios theresults intended part evaluation basis differenttheoretical treatments problem comparative span loading curves together supportingevidence showed substantial part lift incrementproduced slipstream due destalling boundary layer controleffect integrated remaining lift increment subtracting destalling lift found agreewell potential flow theory empirical evaluation destalling effects made forthe specific configuration experiment \n",
            "simple shear flow past flat plate incompressible fluid smallviscosity in study high speed viscous flow past two dimensional body itis usually necessary consider curved shock wave emitting thenose leading edge body consequently exists inviscidrotational flow region shock wave boundary layer situation arises instance study hypersonicviscous flow past flat plate situation somewhat differentfrom prandtl s classical boundary layer problem prandtl soriginal problem inviscid free stream outside boundary layer isirrotational hypersonic boundary layer problem inviscidfree stream must considered rotational possible effects ofvorticity recently discussed ferri libby presentpaper simple shear flow past flat plate fluid smallviscosity investigated shown problem againbe treated boundary layer approximation novel featurebeing free stream constant vorticity discussionhere restricted two dimensional incompressible steady flow \n",
            "boundary layer simple shear flow past flat plate the boundary layer equations presented steadyincompressible flow pressure gradient \n",
            "approximate solutions incompressible laminarboundary layer equations plate shear flow two dimensional steady boundary layerproblem flat plate ashear flow incompressible fluid considered solutions boundarylayerthickness skin friction velocitydistribution boundarylayer obtained karman pohlhausentechnique comparison withthe boundary layer uniform flow alsobeen made show effect ofvorticity \n",
            "one dimensional transient heat conduction double layerslab subjected linear heat input small timeinternal analytic solutions presented transient heat conductionin composite slabs exposed one surface atriangular heat rate type heating rate may occur forexample aerodynamic heating \n",
            "one dimensional transient heat flow multilayerslab recent contribution readers forum wassermann gave analyticsolutions temperature doublelayer slab triangular heatrate input one face insulated thermal resistanceat interface solutions thethree particular cases propose give general solutionto problem indicatebriefly obtained using method ofreference point outthat solutions given wassermann areincomplete times longerthan duration heat input \n"
          ]
        }
      ],
      "source": [
        "remove_blank_space_(files)\n",
        "first_five_file_contents_(files)"
      ]
    },
    {
      "cell_type": "code",
      "execution_count": null,
      "id": "cf47b52c",
      "metadata": {
        "id": "cf47b52c"
      },
      "outputs": [],
      "source": []
    },
    {
      "cell_type": "code",
      "execution_count": null,
      "id": "efad48e6",
      "metadata": {
        "id": "efad48e6"
      },
      "outputs": [],
      "source": []
    }
  ],
  "metadata": {
    "kernelspec": {
      "display_name": "Python 3 (ipykernel)",
      "language": "python",
      "name": "python3"
    },
    "language_info": {
      "codemirror_mode": {
        "name": "ipython",
        "version": 3
      },
      "file_extension": ".py",
      "mimetype": "text/x-python",
      "name": "python",
      "nbconvert_exporter": "python",
      "pygments_lexer": "ipython3",
      "version": "3.9.12"
    },
    "colab": {
      "provenance": []
    }
  },
  "nbformat": 4,
  "nbformat_minor": 5
}